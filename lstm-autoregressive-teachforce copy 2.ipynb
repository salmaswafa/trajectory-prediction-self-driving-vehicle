{
  "cells": [
    {
      "cell_type": "markdown",
      "metadata": {
        "id": "-n-C_P-zs-pY"
      },
      "source": [
        "# LSTM - vanilla"
      ]
    },
    {
      "cell_type": "code",
      "execution_count": 1,
      "metadata": {},
      "outputs": [],
      "source": [
        "best_model = \"best_model_all_feat_2layers_all_agents.pt\"\n",
        "\n",
        "# best_model = \"best_model_all_feat_all_agents.pt\""
      ]
    },
    {
      "cell_type": "code",
      "execution_count": 2,
      "metadata": {},
      "outputs": [
        {
          "data": {
            "text/plain": [
              "'best_model_all_feat_2layers_all_agents.pt'"
            ]
          },
          "execution_count": 2,
          "metadata": {},
          "output_type": "execute_result"
        }
      ],
      "source": [
        "best_model"
      ]
    },
    {
      "cell_type": "markdown",
      "metadata": {},
      "source": [
        "## Load and prepare data"
      ]
    },
    {
      "cell_type": "code",
      "execution_count": 3,
      "metadata": {
        "_cell_guid": "b1076dfc-b9ad-4769-8c92-a6c4dae69d19",
        "_uuid": "8f2839f25d086af736a60e9eeb907d3b93b6e0e5",
        "execution": {
          "iopub.execute_input": "2025-04-01T17:39:17.728787Z",
          "iopub.status.busy": "2025-04-01T17:39:17.728324Z",
          "iopub.status.idle": "2025-04-01T17:39:18.875979Z",
          "shell.execute_reply": "2025-04-01T17:39:18.874618Z"
        },
        "id": "F4_wHjhZs-pa",
        "papermill": {
          "duration": 1.154057,
          "end_time": "2025-04-01T17:39:18.878059",
          "exception": false,
          "start_time": "2025-04-01T17:39:17.724002",
          "status": "completed"
        },
        "tags": []
      },
      "outputs": [],
      "source": [
        "import os\n",
        "\n",
        "import numpy as np\n",
        "import pandas as pd\n",
        "import matplotlib.pyplot as plt\n",
        "import random\n",
        "\n",
        "import torch\n",
        "import torch.nn as nn\n",
        "import torch.optim as optim\n",
        "from torch.utils.data import Dataset, DataLoader\n",
        "from torch_geometric.data import Data, Batch\n",
        "import tqdm"
      ]
    },
    {
      "cell_type": "code",
      "execution_count": 4,
      "metadata": {
        "execution": {
          "iopub.execute_input": "2025-04-01T17:39:18.890746Z",
          "iopub.status.busy": "2025-04-01T17:39:18.890075Z",
          "iopub.status.idle": "2025-04-01T17:39:40.968717Z",
          "shell.execute_reply": "2025-04-01T17:39:40.967158Z"
        },
        "id": "09texa_os-pc",
        "papermill": {
          "duration": 22.084222,
          "end_time": "2025-04-01T17:39:40.970631",
          "exception": false,
          "start_time": "2025-04-01T17:39:18.886409",
          "status": "completed"
        },
        "tags": []
      },
      "outputs": [
        {
          "name": "stdout",
          "output_type": "stream",
          "text": [
            "train_data's shape (10000, 50, 110, 6)\n",
            "test_data's shape (2100, 50, 50, 6)\n"
          ]
        }
      ],
      "source": [
        "train_file = np.load('../cse-251-b-2025/train.npz')\n",
        "\n",
        "train_data = train_file['data']\n",
        "# train_data = train_data[::2]\n",
        "print(\"train_data's shape\", train_data.shape)\n",
        "test_file = np.load('../cse-251-b-2025/test_input.npz')\n",
        "\n",
        "test_data = test_file['data']\n",
        "print(\"test_data's shape\", test_data.shape)"
      ]
    },
    {
      "cell_type": "code",
      "execution_count": 5,
      "metadata": {
        "execution": {
          "iopub.execute_input": "2025-04-01T17:39:40.97884Z",
          "iopub.status.busy": "2025-04-01T17:39:40.978362Z",
          "iopub.status.idle": "2025-04-01T17:39:41.323077Z",
          "shell.execute_reply": "2025-04-01T17:39:41.321787Z"
        },
        "id": "ckJbGP_ds-pc",
        "papermill": {
          "duration": 0.351374,
          "end_time": "2025-04-01T17:39:41.325147",
          "exception": false,
          "start_time": "2025-04-01T17:39:40.973773",
          "status": "completed"
        },
        "tags": []
      },
      "outputs": [
        {
          "data": {
            "image/png": "[encoded data removed]",
            "text/plain": [
              "<Figure size 640x480 with 1 Axes>"
            ]
          },
          "metadata": {},
          "output_type": "display_data"
        }
      ],
      "source": [
        "# plot one\n",
        "import matplotlib.pyplot as plt\n",
        "\n",
        "data_matrix = train_data[0]\n",
        "\n",
        "for i in range(data_matrix.shape[0]):\n",
        "    xs = data_matrix[i, :, 0]\n",
        "    ys = data_matrix[i, :, 1]\n",
        "    # trim all zeros\n",
        "    xs = xs[xs != 0]\n",
        "    ys = ys[ys != 0]\n",
        "    # plot each line going from transparent to full\n",
        "    plt.plot(xs, ys)\n",
        "\n",
        "plt.show()"
      ]
    },
    {
      "cell_type": "markdown",
      "metadata": {},
      "source": [
        "# Data Loaders"
      ]
    },
    {
      "cell_type": "code",
      "execution_count": 6,
      "metadata": {},
      "outputs": [],
      "source": [
        "class TrajectoryDatasetTrain(Dataset):\n",
        "    def __init__(self, data, scale=10.0, augment=True):\n",
        "        \"\"\"\n",
        "        data: Shape (N, 50, 110, 6) Training data\n",
        "        scale: Scale for normalization (suggested to use 10.0 for Argoverse 2 data)\n",
        "        augment: Whether to apply data augmentation (only for training)\n",
        "        \"\"\"\n",
        "        self.data = data\n",
        "        self.scale = scale\n",
        "        self.augment = augment\n",
        "\n",
        "    def __len__(self):\n",
        "        return len(self.data)\n",
        "\n",
        "    def __getitem__(self, idx):\n",
        "        scene = self.data[idx]\n",
        "        # Getting 50 historical timestamps and 60 future timestamps\n",
        "        hist = scene[:, :50, :5].copy()    # (agents=50, time_seq=50, 6)\n",
        "        future = torch.tensor(scene[0, 50:, :2].copy(), dtype=torch.float32)  # (50, 60, 2)\n",
        "        #add the feature of the scene number for each sample\n",
        "       \n",
        " \n",
        "        # Data augmentation(only for training)\n",
        "        if self.augment:\n",
        "            if np.random.rand() < 0.5:\n",
        "                theta = np.random.uniform(-np.pi, np.pi)\n",
        "                R = np.array([[np.cos(theta), -np.sin(theta)],\n",
        "                              [np.sin(theta),  np.cos(theta)]], dtype=np.float32)\n",
        "                # Rotate the historical trajectory and future trajectory\n",
        "                hist[..., :2] = hist[..., :2] @ R\n",
        "                hist[..., 2:4] = hist[..., 2:4] @ R\n",
        "                future = future @ R\n",
        "                # future[..., 2:4] = future[..., 2:4] @ R\n",
        "            if np.random.rand() < 0.5:\n",
        "                hist[..., 0] *= -1\n",
        "                hist[..., 2] *= -1\n",
        "                future[:, 0] *= -1\n",
        "                # future[:, 2] *= -1\n",
        "\n",
        "        # Use the last timeframe of the historical trajectory as the origin\n",
        "        origin = hist[0, 49, :2].copy()  # (2,)\n",
        "        hist[..., :2] = hist[..., :2] - origin\n",
        "        # future[..., :2] = future[..., :2] - origin\n",
        "        future = future - origin\n",
        "\n",
        "        # Normalize the historical trajectory and future trajectory\n",
        "        hist[..., :4] = hist[..., :4] / self.scale\n",
        "        future = future / self.scale\n",
        "        # hist[..., :2] = hist[..., :2] / self.scale\n",
        "        # future[..., :2] = future[..., :2] / self.scale\n",
        "\n",
        "        \n",
        "        # print(\"hist's shape\", hist.shape)\n",
        "        data_item = Data(\n",
        "            x=torch.tensor(hist, dtype=torch.float32),\n",
        "            y=future.type(torch.float32),\n",
        "            origin=torch.tensor(origin, dtype=torch.float32).unsqueeze(0), # (1,2)\n",
        "            scale=torch.tensor(self.scale, dtype=torch.float32), # scalar e.g. 7.0\n",
        "        )\n",
        "\n",
        "        return data_item\n",
        "    \n",
        "\n",
        "class TrajectoryDatasetTest(Dataset):\n",
        "    def __init__(self, data, scale=10.0):\n",
        "        \"\"\"\n",
        "        data: Shape (N, 50, 110, 6) Testing data\n",
        "        scale: Scale for normalization (suggested to use 10.0 for Argoverse 2 data)\n",
        "        \"\"\"\n",
        "        self.data = data\n",
        "        self.scale = scale\n",
        "\n",
        "    def __len__(self):\n",
        "        return len(self.data)\n",
        "\n",
        "    def __getitem__(self, idx):\n",
        "        # Testing data only contains historical trajectory\n",
        "        scene = self.data[idx]  # (50, 50, 6)\n",
        "        hist = scene.copy()\n",
        "        # hist = hist[...,]\n",
        "        \n",
        "        origin = hist[0, 49, :2].copy()\n",
        "        hist[..., :2] = hist[..., :2] - origin\n",
        "        hist[..., :4] = hist[..., :4] / self.scale\n",
        "        hist[..., :2] = hist[..., :2] / self.scale\n",
        "\n",
        "        data_item = Data(\n",
        "            x=torch.tensor(hist, dtype=torch.float32),\n",
        "            origin=torch.tensor(origin, dtype=torch.float32).unsqueeze(0),\n",
        "            scale=torch.tensor(self.scale, dtype=torch.float32),\n",
        "        )\n",
        "        return data_item"
      ]
    },
    {
      "cell_type": "code",
      "execution_count": 7,
      "metadata": {},
      "outputs": [
        {
          "name": "stdout",
          "output_type": "stream",
          "text": [
            "Using Apple Silicon GPU\n"
          ]
        }
      ],
      "source": [
        "torch.manual_seed(251)\n",
        "np.random.seed(42)\n",
        "\n",
        "scale = 7.0 #why not 10\n",
        "\n",
        "N = len(train_data)\n",
        "val_size = int(0.1 * N)\n",
        "train_size = N - val_size\n",
        "\n",
        "train_dataset = TrajectoryDatasetTrain(train_data[:train_size], scale=scale, augment=True)\n",
        "val_dataset = TrajectoryDatasetTrain(train_data[train_size:], scale=scale, augment=False)\n",
        "\n",
        "train_dataloader = DataLoader(train_dataset, batch_size=32, shuffle=True, collate_fn=lambda x: Batch.from_data_list(x))\n",
        "val_dataloader = DataLoader(val_dataset, batch_size=32, shuffle=False, collate_fn=lambda x: Batch.from_data_list(x))\n",
        "\n",
        "# Set device for training speedup\n",
        "if torch.backends.mps.is_available():\n",
        "    device = torch.device('mps')\n",
        "    print(\"Using Apple Silicon GPU\")\n",
        "elif torch.cuda.is_available():\n",
        "    device = torch.device('cuda')\n",
        "    print(\"Using CUDA GPU\")\n",
        "else:\n",
        "    device = torch.device('cpu')"
      ]
    },
    {
      "cell_type": "markdown",
      "metadata": {},
      "source": [
        "# LSTM"
      ]
    },
    {
      "cell_type": "code",
      "execution_count": 8,
      "metadata": {},
      "outputs": [],
      "source": [
        "class AutoRegressiveLSTM(nn.Module):\n",
        "    def __init__(self, input_dim=5, hidden_dim=512, output_dim=2, num_layers=1, future_steps=60):\n",
        "        super().__init__()\n",
        "\n",
        "        self.input_dim = input_dim\n",
        "        self.output_dim = output_dim\n",
        "        self.hidden_dim = hidden_dim\n",
        "        self.num_layers = num_layers\n",
        "        self.future_steps = future_steps\n",
        "\n",
        "        # Encoder: takes in past trajectory\n",
        "        self.encoder = nn.LSTM(input_size=input_dim, hidden_size=hidden_dim, num_layers=num_layers, batch_first=True)\n",
        "\n",
        "        # Decoder: predicts future positions one step at a time\n",
        "        self.decoder = nn.LSTM(input_size=output_dim, hidden_size=hidden_dim, num_layers=num_layers, batch_first=True)\n",
        "        self.out = nn.Linear(hidden_dim, output_dim)\n",
        "\n",
        "    def forward(self, data, forcing_ratio = 0.5):\n",
        "    # def forward(self, data):\n",
        "        x = data.x[..., :self.input_dim] \n",
        "       \n",
        "        x = x.reshape(-1, 50, 50, self.input_dim)[:, 0, :, :]  # (B*A, 50, 5)\n",
        "        # x = x.reshape(-1, 50, self.input_dim)\n",
        "        batch_size = x.size(0)\n",
        "        \n",
        "        if self.training:\n",
        "            future = data.y.view(batch_size, 60, self.output_dim) # (batch, 60, 2)\n",
        "\n",
        "        device = x.device\n",
        "\n",
        "        # Encode past\n",
        "        _, (hidden, cell) = self.encoder(x)\n",
        "\n",
        "        # Initialize decoder input with last observed position\n",
        "        decoder_input = x[:, -1, :self.output_dim].unsqueeze(1)  # (batch, 1, 2)\n",
        "        \n",
        "        # print(\"decoder_input.shape - initial\", decoder_input.shape)  # should be (batch, 1, 2)\n",
        "\n",
        "        outputs = []\n",
        "\n",
        "        for t in range(self.future_steps):\n",
        "            output, (hidden, cell) = self.decoder(decoder_input, (hidden, cell))\n",
        "            pred = self.out(output)  # (batch, 1, 2)\n",
        "            outputs.append(pred)\n",
        "\n",
        "            # TODO: remove forcing ratio?\n",
        "            if self.training and random.random() < forcing_ratio:\n",
        "            # if self.training:\n",
        "                decoder_input = future[:, t].unsqueeze(1)  # ground truth\n",
        "                # print(\"decoder_input.shape - teacher forcing\", decoder_input.shape)  # should be (batch, 1, 2)\n",
        "            else:\n",
        "                decoder_input = pred.detach()  # predicted output as next input\n",
        "                # print(\"decoder_input.shape - autoreg\", decoder_input.shape)  # should be (batch, 1, 2)\n",
        "\n",
        "        outputs = torch.cat(outputs, dim=1)  # (batch, 60, 2)\n",
        "        return outputs"
      ]
    },
    {
      "cell_type": "code",
      "execution_count": 9,
      "metadata": {},
      "outputs": [],
      "source": [
        "# # Example of basic model with simple attention mechanism\n",
        "# class SimpleLSTMWithAttn(nn.Module):\n",
        "#     def __init__(self, input_dim=5, hidden_dim=512, output_dim=60*2):\n",
        "#         super(SimpleLSTMWithAttn, self).__init__()\n",
        "#         self.lstm = nn.LSTM(input_dim, hidden_dim, batch_first=True)\n",
        "        \n",
        "#         # Simple attention mechanism\n",
        "#         self.attention = nn.Linear(hidden_dim, 1)\n",
        "        \n",
        "#         # Add multi-layer prediction head for better results\n",
        "#         self.fc1 = nn.Linear(hidden_dim, hidden_dim)\n",
        "#         self.dropout = nn.Dropout(0.1)  # Add dropout for regularization\n",
        "#         self.relu = nn.ReLU()\n",
        "#         self.fc2 = nn.Linear(hidden_dim, output_dim)\n",
        "        \n",
        "#         # Initialize weights properly\n",
        "#         for name, param in self.named_parameters():\n",
        "#             if 'weight' in name:\n",
        "#                 nn.init.xavier_normal_(param)\n",
        "#             elif 'bias' in name:\n",
        "#                 nn.init.constant_(param, 0.0)\n",
        "        \n",
        "#     def forward(self, data):\n",
        "#         x = data.x[..., :5]\n",
        "#         x = x.reshape(-1, 50, 50, 5)  # (batch_size, num_agents, seq_len, input_dim)\n",
        "#         x = x[:, 0, :, :]  # Only consider ego agent (index 0)\n",
        "        \n",
        "#         # Process through LSTM\n",
        "#         lstm_out, _ = self.lstm(x)  # (batch_size, seq_len, hidden_dim)\n",
        "        \n",
        "#         # Apply attention mechanism\n",
        "#         attention_weights = torch.softmax(self.attention(lstm_out), dim=1)  # (batch_size, seq_len, 1)\n",
        "#         attended_features = torch.sum(lstm_out * attention_weights, dim=1)  # (batch_size, hidden_dim)\n",
        "        \n",
        "#         # Process through prediction head\n",
        "#         features = self.relu(self.fc1(attended_features))\n",
        "#         features = self.dropout(features)\n",
        "#         out = self.fc2(features)\n",
        "        \n",
        "#         # Reshape to (batch_size, 60, 2)\n",
        "#         return out.view(-1, 60, 2)"
      ]
    },
    {
      "cell_type": "markdown",
      "metadata": {},
      "source": [
        "# Train"
      ]
    },
    {
      "cell_type": "code",
      "execution_count": 10,
      "metadata": {},
      "outputs": [],
      "source": [
        "def train_improved_model(model, train_dataloader, val_dataloader, \n",
        "                         device, criterion=nn.MSELoss(), \n",
        "                         lr=0.001, epochs=150, patience=15, num_agents = 1):\n",
        "    \"\"\"\n",
        "    Improved training function with better debugging and early stopping\n",
        "    \"\"\"\n",
        "    input_dim = model.input_dim # Historical trajectory input dimension\n",
        "    output_dim = model.output_dim  # Future trajectory output dimension\n",
        "    # Initialize optimizer with smaller learning rate\n",
        "    optimizer = torch.optim.Adam(model.parameters(), lr=lr)\n",
        "    \n",
        "    # Exponential decay scheduler\n",
        "    scheduler = torch.optim.lr_scheduler.ExponentialLR(optimizer, gamma=0.95)\n",
        "    \n",
        "    early_stopping_patience = patience\n",
        "    best_val_loss = float('inf')\n",
        "    no_improvement = 0\n",
        "    \n",
        "    # Save initial state for comparison\n",
        "    initial_state_dict = {k: v.clone() for k, v in model.state_dict().items()}\n",
        "    \n",
        "    for epoch in tqdm.tqdm(range(epochs), desc=\"Epoch\", unit=\"epoch\"):\n",
        "        # ---- Training ----\n",
        "        model.train()\n",
        "        train_loss = 0\n",
        "        num_train_batches = 0\n",
        "        forcing_ratio = max(0.0, 1.0 - epoch / 50)\n",
        "        \n",
        "        for batch in train_dataloader:\n",
        "            batch = batch.to(device)\n",
        "            # print(f\"Batch size: {batch.x.shape}\")\n",
        "            pred = model(batch, forcing_ratio=forcing_ratio).view(-1, 60, output_dim)\n",
        "            # y = batch.y.view(-1, 60, output_dim)\n",
        "            y = batch.y.view(batch.num_graphs, 60, output_dim)\n",
        "            \n",
        "            # Check for NaN predictions\n",
        "            if torch.isnan(pred).any():\n",
        "                print(f\"WARNING: NaN detected in predictions during training\")\n",
        "                continue\n",
        "                \n",
        "            loss = criterion(pred, y)\n",
        "            \n",
        "            # Check if loss is valid\n",
        "            if torch.isnan(loss) or torch.isinf(loss):\n",
        "                print(f\"WARNING: Invalid loss value: {loss.item()}\")\n",
        "                continue\n",
        "                \n",
        "            optimizer.zero_grad()\n",
        "            loss.backward()\n",
        "            \n",
        "            # More conservative gradient clipping\n",
        "            torch.nn.utils.clip_grad_norm_(model.parameters(), 1.0)\n",
        "            \n",
        "            optimizer.step()\n",
        "            train_loss += loss.item()\n",
        "            num_train_batches += 1\n",
        "        \n",
        "        # Skip epoch if no valid batches\n",
        "        if num_train_batches == 0:\n",
        "            print(\"WARNING: No valid training batches in this epoch\")\n",
        "            continue\n",
        "            \n",
        "        train_loss /= num_train_batches\n",
        "        \n",
        "        # ---- Validation ----\n",
        "        model.eval()\n",
        "        val_loss = 0\n",
        "        val_mae = 0\n",
        "        val_mse = 0\n",
        "        num_val_batches = 0\n",
        "        \n",
        "        # Sample predictions for debugging\n",
        "        sample_input = None\n",
        "        sample_pred = None\n",
        "        sample_target = None\n",
        "        \n",
        "        with torch.no_grad():\n",
        "            for batch_idx, batch in enumerate(val_dataloader):\n",
        "                batch = batch.to(device)\n",
        "                pred = model(batch)\n",
        "                # pred = pred.view(-1, 50, 60, output_dim)\n",
        "                pred = pred.view(batch.num_graphs, 60, output_dim)\n",
        "                # y = batch.y.view(-1, 50, 60, output_dim)\n",
        "                # y = batch.y.view(-1, 60, output_dim)\n",
        "                y = batch.y.view(batch.num_graphs, 60, 2)\n",
        "                \n",
        "\n",
        "                # Store sample for debugging\n",
        "                if batch_idx == 0 and sample_input is None:\n",
        "                    sample_input = batch.x[0].cpu().numpy()\n",
        "                    sample_pred = pred[0].cpu().numpy()\n",
        "                    sample_target = y[0].cpu().numpy()\n",
        "\n",
        "                # Skip invalid predictions\n",
        "                if torch.isnan(pred).any():\n",
        "                    print(f\"WARNING: NaN detected in predictions during validation\")\n",
        "                    continue\n",
        "                    \n",
        "                # batch_loss = criterion(pred[:, 0, :, :2], y[:, 0, :, :2]).item()\n",
        "                batch_loss = criterion(pred, y).item()\n",
        "                val_loss += batch_loss\n",
        "                \n",
        "\n",
        "                \n",
        "                # pred_unnorm = pred[:, 0, :, :2] * batch.scale.view(-1, 1, 1) + batch.origin.unsqueeze(1)\n",
        "                # y_unnorm = y[:, 0, :, :2] * batch.scale.view(-1, 1, 1) + batch.origin.unsqueeze(1)\n",
        "\n",
        "                # pred_unnorm = pred.view(-1,num_agents,60,output_dim)[:, 0, :, :2] * batch.scale.view(-1, 1, 1) + batch.origin.unsqueeze(1)\n",
        "                # y_unnorm = y.view(-1,num_agents,60,output_dim)[:, 0, :, :2] * batch.scale.view(-1, 1, 1) + batch.origin.unsqueeze(1)\n",
        "                pred_unnorm = pred* batch.scale.view(-1, 1, 1) + batch.origin.unsqueeze(1)\n",
        "                y_unnorm = y * batch.scale.view(-1, 1, 1) + batch.origin.unsqueeze(1)\n",
        "                val_mae += nn.L1Loss()(pred_unnorm, y_unnorm).item()\n",
        "                val_mse += nn.MSELoss()(pred_unnorm, y_unnorm).item()\n",
        "                \n",
        "                num_val_batches += 1\n",
        "        \n",
        "        # Skip epoch if no valid validation batches\n",
        "        if num_val_batches == 0:\n",
        "            print(\"WARNING: No valid validation batches in this epoch\")\n",
        "            continue\n",
        "            \n",
        "        val_loss /= num_val_batches #all agents \n",
        "        val_mae /= num_val_batches\n",
        "        val_mse /= num_val_batches\n",
        "        \n",
        "        # Update learning rate\n",
        "        scheduler.step()\n",
        "        \n",
        "        # Print with more details\n",
        "        tqdm.tqdm.write(\n",
        "            f\"Epoch {epoch:03d} | LR {optimizer.param_groups[0]['lr']:.6f} | \"\n",
        "            f\"Train MSE {train_loss:.4f} | Val MSE {val_loss:.4f} | \"\n",
        "            f\"Val MAE {val_mae:.4f} | Val MSE {val_mse:.4f}\"\n",
        "        )\n",
        "        \n",
        "        # Debug output - first 3 predictions vs targets\n",
        "        if epoch % 5 == 0:\n",
        "            tqdm.tqdm.write(f\"Sample pred first 3 steps: {sample_pred[:3]}\")\n",
        "            tqdm.tqdm.write(f\"Sample target first 3 steps: {sample_target[:3]}\")\n",
        "            tqdm.tqdm.write(f\"Sample input first 3 steps: {sample_input[:3]}\")\n",
        "            \n",
        "            # Check if model weights are changing\n",
        "            if epoch > 0:\n",
        "                weight_change = False\n",
        "                for name, param in model.named_parameters():\n",
        "                    if param.requires_grad:\n",
        "                        initial_param = initial_state_dict[name]\n",
        "                        if not torch.allclose(param, initial_param, rtol=1e-4):\n",
        "                            weight_change = True\n",
        "                            break\n",
        "                if not weight_change:\n",
        "                    tqdm.tqdm.write(\"WARNING: Model weights barely changing!\")\n",
        "        \n",
        "        # Relaxed improvement criterion - consider any improvement\n",
        "        if val_loss < best_val_loss:\n",
        "            tqdm.tqdm.write(f\"Validation improved: {best_val_loss:.6f} -> {val_loss:.6f}\")\n",
        "            best_val_loss = val_loss\n",
        "            no_improvement = 0\n",
        "            torch.save(model.state_dict(), best_model)\n",
        "        else:\n",
        "            no_improvement += 1\n",
        "            if no_improvement >= early_stopping_patience:\n",
        "                print(f\"Early stopping after {epoch+1} epochs without improvement\")\n",
        "                break\n",
        "    \n",
        "    # Load best model before returning\n",
        "    model.load_state_dict(torch.load(best_model))\n",
        "    return model"
      ]
    },
    {
      "cell_type": "code",
      "execution_count": 11,
      "metadata": {},
      "outputs": [],
      "source": [
        "# Example usage\n",
        "def train_and_evaluate_model():\n",
        "    # Create model\n",
        "    model = AutoRegressiveLSTM(input_dim=5, output_dim = 2, hidden_dim=512)\n",
        "    model = model.to(device)\n",
        "    num_agents = 1\n",
        "    # Train with improved function\n",
        "    train_improved_model(\n",
        "        model=model,\n",
        "        train_dataloader=train_dataloader,\n",
        "        val_dataloader=val_dataloader,\n",
        "        device=device,\n",
        "        # lr = 0.007 => 8.946\n",
        "        lr=0.007,  # Lower learning rate\n",
        "        patience=20,  # More patience\n",
        "        epochs=200,\n",
        "        num_agents = num_agents\n",
        "    )\n",
        "    \n",
        "    # Evaluate\n",
        "    model.eval()\n",
        "    test_mse = 0\n",
        "    with torch.no_grad():\n",
        "        for batch in val_dataloader:\n",
        "            batch = batch.to(device)\n",
        "            pred = model(batch)(-1, num_agents, 60, model.output_dim)\n",
        "            y = batch.y.view(-1, num_agents, 60, model.output_dim)\n",
        "            \n",
        "            # Unnormalize\n",
        "            pred = pred[:, 0, :, :2] * batch.scale.view(-1, 1, 1) + batch.origin.unsqueeze(1)\n",
        "            y = y[:, 0, :, :2] * batch.scale.view(-1, 1, 1) + batch.origin.unsqueeze(1)\n",
        "        \n",
        "            test_mse += nn.MSELoss()(pred, y).item()\n",
        "    \n",
        "    test_mse /= len(val_dataloader)\n",
        "    print(f\"Val MSE: {test_mse:.4f}\")\n",
        "    \n",
        "    return model"
      ]
    },
    {
      "cell_type": "code",
      "execution_count": 12,
      "metadata": {},
      "outputs": [
        {
          "name": "stderr",
          "output_type": "stream",
          "text": [
            "Epoch:   0%|          | 0/200 [00:00<?, ?epoch/s]/var/folders/0r/zhth93bs1ygg_ln8t_nhb4f80000gn/T/ipykernel_89871/1362921994.py:32: DeprecationWarning: __array_wrap__ must accept context and return_scalar arguments (positionally) in the future. (Deprecated NumPy 2.0)\n",
            "  future = future @ R\n",
            "/var/folders/0r/zhth93bs1ygg_ln8t_nhb4f80000gn/T/ipykernel_89871/1362921994.py:44: DeprecationWarning: __array_wrap__ must accept context and return_scalar arguments (positionally) in the future. (Deprecated NumPy 2.0)\n",
            "  future = future - origin\n",
            "Epoch:   0%|          | 1/200 [00:20<1:06:51, 20.16s/epoch]"
          ]
        },
        {
          "name": "stdout",
          "output_type": "stream",
          "text": [
            "Epoch 000 | LR 0.006650 | Train MSE 0.9629 | Val MSE 50.2377 | Val MAE 42.3243 | Val MSE 2461.6488\n",
            "Sample pred first 3 steps: [[-0.00769935  0.06206309]\n",
            " [ 0.01978711  0.10633767]\n",
            " [ 0.02133254  0.06970321]]\n",
            "Sample target first 3 steps: [[3.2984033e-06 6.9473140e-06]\n",
            " [3.2984033e-06 6.9473140e-06]\n",
            " [3.2984033e-06 6.9473140e-06]]\n",
            "Sample input first 3 steps: [[-3.41748688e-07  1.43109173e-05  6.39591417e-06 -1.12966054e-05\n",
            "   2.33426189e+00]\n",
            " [-2.32525835e-07  1.40127395e-05  6.39591417e-06 -1.12966054e-05\n",
            "   2.33426213e+00]\n",
            " [-1.77852527e-07  1.37678999e-05 -9.72734483e-07 -4.35880975e-06\n",
            "   2.33426237e+00]]\n",
            "Validation improved: inf -> 50.237730\n"
          ]
        },
        {
          "name": "stderr",
          "output_type": "stream",
          "text": [
            "Epoch:   1%|          | 2/200 [00:40<1:05:58, 19.99s/epoch]"
          ]
        },
        {
          "name": "stdout",
          "output_type": "stream",
          "text": [
            "Epoch 001 | LR 0.006317 | Train MSE 0.0064 | Val MSE 32.7450 | Val MAE 25.1761 | Val MSE 1604.5053\n",
            "Validation improved: 50.237730 -> 32.745004\n"
          ]
        },
        {
          "name": "stderr",
          "output_type": "stream",
          "text": [
            "Epoch:   2%|▏         | 3/200 [01:02<1:09:57, 21.31s/epoch]"
          ]
        },
        {
          "name": "stdout",
          "output_type": "stream",
          "text": [
            "Epoch 002 | LR 0.006002 | Train MSE 0.0034 | Val MSE 15.1988 | Val MAE 19.5934 | Val MSE 744.7416\n",
            "Validation improved: 32.745004 -> 15.198810\n"
          ]
        },
        {
          "name": "stderr",
          "output_type": "stream",
          "text": [
            "Epoch:   2%|▏         | 4/200 [01:25<1:11:14, 21.81s/epoch]"
          ]
        },
        {
          "name": "stdout",
          "output_type": "stream",
          "text": [
            "Epoch 003 | LR 0.005702 | Train MSE 0.0043 | Val MSE 19.8428 | Val MAE 20.3029 | Val MSE 972.2981\n"
          ]
        },
        {
          "name": "stderr",
          "output_type": "stream",
          "text": [
            "Epoch:   2%|▎         | 5/200 [01:48<1:11:44, 22.07s/epoch]"
          ]
        },
        {
          "name": "stdout",
          "output_type": "stream",
          "text": [
            "Epoch 004 | LR 0.005416 | Train MSE 0.0014 | Val MSE 1.8484 | Val MAE 5.9297 | Val MSE 90.5719\n",
            "Validation improved: 15.198810 -> 1.848407\n"
          ]
        },
        {
          "name": "stderr",
          "output_type": "stream",
          "text": [
            "Epoch:   3%|▎         | 6/200 [02:10<1:12:01, 22.28s/epoch]"
          ]
        },
        {
          "name": "stdout",
          "output_type": "stream",
          "text": [
            "Epoch 005 | LR 0.005146 | Train MSE 0.0023 | Val MSE 1.6124 | Val MAE 5.7449 | Val MSE 79.0094\n",
            "Sample pred first 3 steps: [[-0.00557077  0.00546507]\n",
            " [-0.00313275  0.00728785]\n",
            " [ 0.00014345  0.00699236]]\n",
            "Sample target first 3 steps: [[3.2984033e-06 6.9473140e-06]\n",
            " [3.2984033e-06 6.9473140e-06]\n",
            " [3.2984033e-06 6.9473140e-06]]\n",
            "Sample input first 3 steps: [[-3.41748688e-07  1.43109173e-05  6.39591417e-06 -1.12966054e-05\n",
            "   2.33426189e+00]\n",
            " [-2.32525835e-07  1.40127395e-05  6.39591417e-06 -1.12966054e-05\n",
            "   2.33426213e+00]\n",
            " [-1.77852527e-07  1.37678999e-05 -9.72734483e-07 -4.35880975e-06\n",
            "   2.33426237e+00]]\n",
            "Validation improved: 1.848407 -> 1.612436\n"
          ]
        },
        {
          "name": "stderr",
          "output_type": "stream",
          "text": [
            "Epoch:   4%|▎         | 7/200 [02:33<1:11:56, 22.36s/epoch]"
          ]
        },
        {
          "name": "stdout",
          "output_type": "stream",
          "text": [
            "Epoch 006 | LR 0.004888 | Train MSE 0.0008 | Val MSE 4.6766 | Val MAE 8.7791 | Val MSE 229.1547\n"
          ]
        },
        {
          "name": "stderr",
          "output_type": "stream",
          "text": [
            "Epoch:   4%|▍         | 8/200 [02:56<1:11:58, 22.49s/epoch]"
          ]
        },
        {
          "name": "stdout",
          "output_type": "stream",
          "text": [
            "Epoch 007 | LR 0.004644 | Train MSE 0.0047 | Val MSE 18.1394 | Val MAE 20.5010 | Val MSE 888.8304\n"
          ]
        },
        {
          "name": "stderr",
          "output_type": "stream",
          "text": [
            "Epoch:   4%|▍         | 9/200 [03:18<1:11:46, 22.54s/epoch]"
          ]
        },
        {
          "name": "stdout",
          "output_type": "stream",
          "text": [
            "Epoch 008 | LR 0.004412 | Train MSE 0.0016 | Val MSE 2.2061 | Val MAE 6.3373 | Val MSE 108.0975\n"
          ]
        },
        {
          "name": "stderr",
          "output_type": "stream",
          "text": [
            "Epoch:   5%|▌         | 10/200 [03:41<1:11:14, 22.50s/epoch]"
          ]
        },
        {
          "name": "stdout",
          "output_type": "stream",
          "text": [
            "Epoch 009 | LR 0.004191 | Train MSE 0.0012 | Val MSE 6.0417 | Val MAE 11.5625 | Val MSE 296.0430\n"
          ]
        },
        {
          "name": "stderr",
          "output_type": "stream",
          "text": [
            "Epoch:   6%|▌         | 11/200 [04:03<1:10:40, 22.44s/epoch]"
          ]
        },
        {
          "name": "stdout",
          "output_type": "stream",
          "text": [
            "Epoch 010 | LR 0.003982 | Train MSE 0.0082 | Val MSE 52.4791 | Val MAE 33.9828 | Val MSE 2571.4758\n",
            "Sample pred first 3 steps: [[0.04028619 0.02184233]\n",
            " [0.00839067 0.03643164]\n",
            " [0.0329079  0.03168153]]\n",
            "Sample target first 3 steps: [[3.2984033e-06 6.9473140e-06]\n",
            " [3.2984033e-06 6.9473140e-06]\n",
            " [3.2984033e-06 6.9473140e-06]]\n",
            "Sample input first 3 steps: [[-3.41748688e-07  1.43109173e-05  6.39591417e-06 -1.12966054e-05\n",
            "   2.33426189e+00]\n",
            " [-2.32525835e-07  1.40127395e-05  6.39591417e-06 -1.12966054e-05\n",
            "   2.33426213e+00]\n",
            " [-1.77852527e-07  1.37678999e-05 -9.72734483e-07 -4.35880975e-06\n",
            "   2.33426237e+00]]\n"
          ]
        },
        {
          "name": "stderr",
          "output_type": "stream",
          "text": [
            "Epoch:   6%|▌         | 12/200 [04:25<1:10:18, 22.44s/epoch]"
          ]
        },
        {
          "name": "stdout",
          "output_type": "stream",
          "text": [
            "Epoch 011 | LR 0.003783 | Train MSE 0.0044 | Val MSE 1.2721 | Val MAE 5.0718 | Val MSE 62.3307\n",
            "Validation improved: 1.612436 -> 1.272055\n"
          ]
        },
        {
          "name": "stderr",
          "output_type": "stream",
          "text": [
            "Epoch:   6%|▋         | 13/200 [04:48<1:09:55, 22.43s/epoch]"
          ]
        },
        {
          "name": "stdout",
          "output_type": "stream",
          "text": [
            "Epoch 012 | LR 0.003593 | Train MSE 0.0006 | Val MSE 1.6455 | Val MAE 5.8489 | Val MSE 80.6282\n"
          ]
        },
        {
          "name": "stderr",
          "output_type": "stream",
          "text": [
            "Epoch:   7%|▋         | 14/200 [05:10<1:09:36, 22.46s/epoch]"
          ]
        },
        {
          "name": "stdout",
          "output_type": "stream",
          "text": [
            "Epoch 013 | LR 0.003414 | Train MSE 0.0008 | Val MSE 7.2159 | Val MAE 13.1016 | Val MSE 353.5810\n"
          ]
        },
        {
          "name": "stderr",
          "output_type": "stream",
          "text": [
            "Epoch:   8%|▊         | 15/200 [05:33<1:09:23, 22.51s/epoch]"
          ]
        },
        {
          "name": "stdout",
          "output_type": "stream",
          "text": [
            "Epoch 014 | LR 0.003243 | Train MSE 0.0023 | Val MSE 7.0164 | Val MAE 12.7478 | Val MSE 343.8045\n"
          ]
        },
        {
          "name": "stderr",
          "output_type": "stream",
          "text": [
            "Epoch:   8%|▊         | 16/200 [05:55<1:08:57, 22.48s/epoch]"
          ]
        },
        {
          "name": "stdout",
          "output_type": "stream",
          "text": [
            "Epoch 015 | LR 0.003081 | Train MSE 0.0031 | Val MSE 5.1608 | Val MAE 9.4949 | Val MSE 252.8812\n",
            "Sample pred first 3 steps: [[-0.0098896   0.00371495]\n",
            " [ 0.00680962  0.0127676 ]\n",
            " [-0.01044205  0.00868286]]\n",
            "Sample target first 3 steps: [[3.2984033e-06 6.9473140e-06]\n",
            " [3.2984033e-06 6.9473140e-06]\n",
            " [3.2984033e-06 6.9473140e-06]]\n",
            "Sample input first 3 steps: [[-3.41748688e-07  1.43109173e-05  6.39591417e-06 -1.12966054e-05\n",
            "   2.33426189e+00]\n",
            " [-2.32525835e-07  1.40127395e-05  6.39591417e-06 -1.12966054e-05\n",
            "   2.33426213e+00]\n",
            " [-1.77852527e-07  1.37678999e-05 -9.72734483e-07 -4.35880975e-06\n",
            "   2.33426237e+00]]\n"
          ]
        },
        {
          "name": "stderr",
          "output_type": "stream",
          "text": [
            "Epoch:   8%|▊         | 17/200 [06:18<1:08:45, 22.54s/epoch]"
          ]
        },
        {
          "name": "stdout",
          "output_type": "stream",
          "text": [
            "Epoch 016 | LR 0.002927 | Train MSE 0.0037 | Val MSE 2.2718 | Val MAE 6.0702 | Val MSE 111.3203\n"
          ]
        },
        {
          "name": "stderr",
          "output_type": "stream",
          "text": [
            "Epoch:   9%|▉         | 18/200 [06:41<1:08:25, 22.56s/epoch]"
          ]
        },
        {
          "name": "stdout",
          "output_type": "stream",
          "text": [
            "Epoch 017 | LR 0.002781 | Train MSE 0.0043 | Val MSE 2.0538 | Val MAE 5.9638 | Val MSE 100.6356\n"
          ]
        },
        {
          "name": "stderr",
          "output_type": "stream",
          "text": [
            "Epoch:  10%|▉         | 19/200 [07:03<1:08:11, 22.60s/epoch]"
          ]
        },
        {
          "name": "stdout",
          "output_type": "stream",
          "text": [
            "Epoch 018 | LR 0.002641 | Train MSE 0.0020 | Val MSE 1.5113 | Val MAE 5.4322 | Val MSE 74.0560\n"
          ]
        },
        {
          "name": "stderr",
          "output_type": "stream",
          "text": [
            "Epoch:  10%|█         | 20/200 [07:26<1:07:54, 22.63s/epoch]"
          ]
        },
        {
          "name": "stdout",
          "output_type": "stream",
          "text": [
            "Epoch 019 | LR 0.002509 | Train MSE 0.0019 | Val MSE 3.4290 | Val MAE 8.8672 | Val MSE 168.0214\n"
          ]
        },
        {
          "name": "stderr",
          "output_type": "stream",
          "text": [
            "Epoch:  10%|█         | 21/200 [07:49<1:07:38, 22.67s/epoch]"
          ]
        },
        {
          "name": "stdout",
          "output_type": "stream",
          "text": [
            "Epoch 020 | LR 0.002384 | Train MSE 0.0024 | Val MSE 26.0387 | Val MAE 24.5283 | Val MSE 1275.8962\n",
            "Sample pred first 3 steps: [[ 0.00747702  0.00325099]\n",
            " [ 0.01032246 -0.00964431]\n",
            " [ 0.05075269 -0.02576987]]\n",
            "Sample target first 3 steps: [[3.2984033e-06 6.9473140e-06]\n",
            " [3.2984033e-06 6.9473140e-06]\n",
            " [3.2984033e-06 6.9473140e-06]]\n",
            "Sample input first 3 steps: [[-3.41748688e-07  1.43109173e-05  6.39591417e-06 -1.12966054e-05\n",
            "   2.33426189e+00]\n",
            " [-2.32525835e-07  1.40127395e-05  6.39591417e-06 -1.12966054e-05\n",
            "   2.33426213e+00]\n",
            " [-1.77852527e-07  1.37678999e-05 -9.72734483e-07 -4.35880975e-06\n",
            "   2.33426237e+00]]\n"
          ]
        },
        {
          "name": "stderr",
          "output_type": "stream",
          "text": [
            "Epoch:  11%|█         | 22/200 [08:11<1:07:09, 22.64s/epoch]"
          ]
        },
        {
          "name": "stdout",
          "output_type": "stream",
          "text": [
            "Epoch 021 | LR 0.002265 | Train MSE 0.0047 | Val MSE 27.6607 | Val MAE 25.6388 | Val MSE 1355.3756\n"
          ]
        },
        {
          "name": "stderr",
          "output_type": "stream",
          "text": [
            "Epoch:  12%|█▏        | 23/200 [08:34<1:06:41, 22.61s/epoch]"
          ]
        },
        {
          "name": "stdout",
          "output_type": "stream",
          "text": [
            "Epoch 022 | LR 0.002151 | Train MSE 0.0036 | Val MSE 10.9066 | Val MAE 15.1044 | Val MSE 534.4220\n"
          ]
        },
        {
          "name": "stderr",
          "output_type": "stream",
          "text": [
            "Epoch:  12%|█▏        | 24/200 [08:56<1:06:10, 22.56s/epoch]"
          ]
        },
        {
          "name": "stdout",
          "output_type": "stream",
          "text": [
            "Epoch 023 | LR 0.002044 | Train MSE 0.0016 | Val MSE 1.5954 | Val MAE 5.9133 | Val MSE 78.1722\n"
          ]
        },
        {
          "name": "stderr",
          "output_type": "stream",
          "text": [
            "Epoch:  12%|█▎        | 25/200 [09:19<1:05:48, 22.56s/epoch]"
          ]
        },
        {
          "name": "stdout",
          "output_type": "stream",
          "text": [
            "Epoch 024 | LR 0.001942 | Train MSE 0.0016 | Val MSE 7.8019 | Val MAE 11.4549 | Val MSE 382.2935\n"
          ]
        },
        {
          "name": "stderr",
          "output_type": "stream",
          "text": [
            "Epoch:  13%|█▎        | 26/200 [09:41<1:05:18, 22.52s/epoch]"
          ]
        },
        {
          "name": "stdout",
          "output_type": "stream",
          "text": [
            "Epoch 025 | LR 0.001845 | Train MSE 0.0020 | Val MSE 1.0267 | Val MAE 4.4287 | Val MSE 50.3065\n",
            "Sample pred first 3 steps: [[ 0.00388435 -0.00058893]\n",
            " [-0.00151502 -0.00583034]\n",
            " [ 0.00331945 -0.01506609]]\n",
            "Sample target first 3 steps: [[3.2984033e-06 6.9473140e-06]\n",
            " [3.2984033e-06 6.9473140e-06]\n",
            " [3.2984033e-06 6.9473140e-06]]\n",
            "Sample input first 3 steps: [[-3.41748688e-07  1.43109173e-05  6.39591417e-06 -1.12966054e-05\n",
            "   2.33426189e+00]\n",
            " [-2.32525835e-07  1.40127395e-05  6.39591417e-06 -1.12966054e-05\n",
            "   2.33426213e+00]\n",
            " [-1.77852527e-07  1.37678999e-05 -9.72734483e-07 -4.35880975e-06\n",
            "   2.33426237e+00]]\n",
            "Validation improved: 1.272055 -> 1.026662\n"
          ]
        },
        {
          "name": "stderr",
          "output_type": "stream",
          "text": [
            "Epoch:  14%|█▎        | 27/200 [10:04<1:04:46, 22.47s/epoch]"
          ]
        },
        {
          "name": "stdout",
          "output_type": "stream",
          "text": [
            "Epoch 026 | LR 0.001752 | Train MSE 0.0033 | Val MSE 1.6412 | Val MAE 4.9590 | Val MSE 80.4192\n"
          ]
        },
        {
          "name": "stderr",
          "output_type": "stream",
          "text": [
            "Epoch:  14%|█▍        | 28/200 [10:26<1:04:35, 22.53s/epoch]"
          ]
        },
        {
          "name": "stdout",
          "output_type": "stream",
          "text": [
            "Epoch 027 | LR 0.001665 | Train MSE 0.0049 | Val MSE 0.5714 | Val MAE 3.0053 | Val MSE 27.9981\n",
            "Validation improved: 1.026662 -> 0.571389\n"
          ]
        },
        {
          "name": "stderr",
          "output_type": "stream",
          "text": [
            "Epoch:  14%|█▍        | 29/200 [10:50<1:05:11, 22.87s/epoch]"
          ]
        },
        {
          "name": "stdout",
          "output_type": "stream",
          "text": [
            "Epoch 028 | LR 0.001582 | Train MSE 0.0022 | Val MSE 2.7777 | Val MAE 6.7427 | Val MSE 136.1084\n"
          ]
        },
        {
          "name": "stderr",
          "output_type": "stream",
          "text": [
            "Epoch:  15%|█▌        | 30/200 [11:12<1:04:25, 22.74s/epoch]"
          ]
        },
        {
          "name": "stdout",
          "output_type": "stream",
          "text": [
            "Epoch 029 | LR 0.001502 | Train MSE 0.0088 | Val MSE 5.1781 | Val MAE 8.7153 | Val MSE 253.7293\n"
          ]
        },
        {
          "name": "stderr",
          "output_type": "stream",
          "text": [
            "Epoch:  16%|█▌        | 31/200 [11:35<1:03:52, 22.68s/epoch]"
          ]
        },
        {
          "name": "stdout",
          "output_type": "stream",
          "text": [
            "Epoch 030 | LR 0.001427 | Train MSE 0.0050 | Val MSE 0.8397 | Val MAE 3.9950 | Val MSE 41.1458\n",
            "Sample pred first 3 steps: [[0.0008111  0.00756697]\n",
            " [0.00510816 0.00750762]\n",
            " [0.01319803 0.01612103]]\n",
            "Sample target first 3 steps: [[3.2984033e-06 6.9473140e-06]\n",
            " [3.2984033e-06 6.9473140e-06]\n",
            " [3.2984033e-06 6.9473140e-06]]\n",
            "Sample input first 3 steps: [[-3.41748688e-07  1.43109173e-05  6.39591417e-06 -1.12966054e-05\n",
            "   2.33426189e+00]\n",
            " [-2.32525835e-07  1.40127395e-05  6.39591417e-06 -1.12966054e-05\n",
            "   2.33426213e+00]\n",
            " [-1.77852527e-07  1.37678999e-05 -9.72734483e-07 -4.35880975e-06\n",
            "   2.33426237e+00]]\n"
          ]
        },
        {
          "name": "stderr",
          "output_type": "stream",
          "text": [
            "Epoch:  16%|█▌        | 32/200 [11:58<1:03:31, 22.69s/epoch]"
          ]
        },
        {
          "name": "stdout",
          "output_type": "stream",
          "text": [
            "Epoch 031 | LR 0.001356 | Train MSE 0.0020 | Val MSE 3.6653 | Val MAE 8.6475 | Val MSE 179.5981\n"
          ]
        },
        {
          "name": "stderr",
          "output_type": "stream",
          "text": [
            "Epoch:  16%|█▋        | 33/200 [12:21<1:03:39, 22.87s/epoch]"
          ]
        },
        {
          "name": "stdout",
          "output_type": "stream",
          "text": [
            "Epoch 032 | LR 0.001288 | Train MSE 0.0045 | Val MSE 1.9385 | Val MAE 6.2944 | Val MSE 94.9841\n"
          ]
        },
        {
          "name": "stderr",
          "output_type": "stream",
          "text": [
            "Epoch:  17%|█▋        | 34/200 [12:44<1:03:05, 22.80s/epoch]"
          ]
        },
        {
          "name": "stdout",
          "output_type": "stream",
          "text": [
            "Epoch 033 | LR 0.001224 | Train MSE 0.0018 | Val MSE 0.8040 | Val MAE 3.8842 | Val MSE 39.3955\n"
          ]
        },
        {
          "name": "stderr",
          "output_type": "stream",
          "text": [
            "Epoch:  18%|█▊        | 35/200 [13:06<1:02:25, 22.70s/epoch]"
          ]
        },
        {
          "name": "stdout",
          "output_type": "stream",
          "text": [
            "Epoch 034 | LR 0.001163 | Train MSE 0.0075 | Val MSE 1.9780 | Val MAE 6.4701 | Val MSE 96.9219\n"
          ]
        },
        {
          "name": "stderr",
          "output_type": "stream",
          "text": [
            "Epoch:  18%|█▊        | 36/200 [13:29<1:01:58, 22.67s/epoch]"
          ]
        },
        {
          "name": "stdout",
          "output_type": "stream",
          "text": [
            "Epoch 035 | LR 0.001104 | Train MSE 0.0060 | Val MSE 8.0245 | Val MAE 12.7172 | Val MSE 393.1985\n",
            "Sample pred first 3 steps: [[-0.00632082 -0.00308418]\n",
            " [-0.00455899 -0.00902915]\n",
            " [-0.01180813 -0.01555039]]\n",
            "Sample target first 3 steps: [[3.2984033e-06 6.9473140e-06]\n",
            " [3.2984033e-06 6.9473140e-06]\n",
            " [3.2984033e-06 6.9473140e-06]]\n",
            "Sample input first 3 steps: [[-3.41748688e-07  1.43109173e-05  6.39591417e-06 -1.12966054e-05\n",
            "   2.33426189e+00]\n",
            " [-2.32525835e-07  1.40127395e-05  6.39591417e-06 -1.12966054e-05\n",
            "   2.33426213e+00]\n",
            " [-1.77852527e-07  1.37678999e-05 -9.72734483e-07 -4.35880975e-06\n",
            "   2.33426237e+00]]\n"
          ]
        },
        {
          "name": "stderr",
          "output_type": "stream",
          "text": [
            "Epoch:  18%|█▊        | 37/200 [13:51<1:01:31, 22.65s/epoch]"
          ]
        },
        {
          "name": "stdout",
          "output_type": "stream",
          "text": [
            "Epoch 036 | LR 0.001049 | Train MSE 0.0096 | Val MSE 2.8167 | Val MAE 7.2965 | Val MSE 138.0195\n"
          ]
        },
        {
          "name": "stderr",
          "output_type": "stream",
          "text": [
            "Epoch:  19%|█▉        | 38/200 [14:14<1:00:55, 22.57s/epoch]"
          ]
        },
        {
          "name": "stdout",
          "output_type": "stream",
          "text": [
            "Epoch 037 | LR 0.000997 | Train MSE 0.0062 | Val MSE 1.8719 | Val MAE 6.0897 | Val MSE 91.7241\n"
          ]
        },
        {
          "name": "stderr",
          "output_type": "stream",
          "text": [
            "Epoch:  20%|█▉        | 39/200 [14:37<1:01:12, 22.81s/epoch]"
          ]
        },
        {
          "name": "stdout",
          "output_type": "stream",
          "text": [
            "Epoch 038 | LR 0.000947 | Train MSE 0.0132 | Val MSE 1.3744 | Val MAE 5.1637 | Val MSE 67.3465\n"
          ]
        },
        {
          "name": "stderr",
          "output_type": "stream",
          "text": [
            "Epoch:  20%|██        | 40/200 [15:00<1:00:40, 22.76s/epoch]"
          ]
        },
        {
          "name": "stdout",
          "output_type": "stream",
          "text": [
            "Epoch 039 | LR 0.000900 | Train MSE 0.0130 | Val MSE 1.2993 | Val MAE 5.0617 | Val MSE 63.6679\n"
          ]
        },
        {
          "name": "stderr",
          "output_type": "stream",
          "text": [
            "Epoch:  20%|██        | 41/200 [15:22<59:55, 22.61s/epoch]  "
          ]
        },
        {
          "name": "stdout",
          "output_type": "stream",
          "text": [
            "Epoch 040 | LR 0.000855 | Train MSE 0.0243 | Val MSE 1.1215 | Val MAE 4.4922 | Val MSE 54.9536\n",
            "Sample pred first 3 steps: [[-0.00045673  0.00109833]\n",
            " [-0.00284977 -0.00662438]\n",
            " [-0.01466905 -0.00992747]]\n",
            "Sample target first 3 steps: [[3.2984033e-06 6.9473140e-06]\n",
            " [3.2984033e-06 6.9473140e-06]\n",
            " [3.2984033e-06 6.9473140e-06]]\n",
            "Sample input first 3 steps: [[-3.41748688e-07  1.43109173e-05  6.39591417e-06 -1.12966054e-05\n",
            "   2.33426189e+00]\n",
            " [-2.32525835e-07  1.40127395e-05  6.39591417e-06 -1.12966054e-05\n",
            "   2.33426213e+00]\n",
            " [-1.77852527e-07  1.37678999e-05 -9.72734483e-07 -4.35880975e-06\n",
            "   2.33426237e+00]]\n"
          ]
        },
        {
          "name": "stderr",
          "output_type": "stream",
          "text": [
            "Epoch:  21%|██        | 42/200 [15:44<59:18, 22.52s/epoch]"
          ]
        },
        {
          "name": "stdout",
          "output_type": "stream",
          "text": [
            "Epoch 041 | LR 0.000812 | Train MSE 0.0173 | Val MSE 0.9694 | Val MAE 4.3165 | Val MSE 47.5004\n"
          ]
        },
        {
          "name": "stderr",
          "output_type": "stream",
          "text": [
            "Epoch:  22%|██▏       | 43/200 [16:06<58:44, 22.45s/epoch]"
          ]
        },
        {
          "name": "stdout",
          "output_type": "stream",
          "text": [
            "Epoch 042 | LR 0.000771 | Train MSE 0.0233 | Val MSE 0.5553 | Val MAE 2.9992 | Val MSE 27.2109\n",
            "Validation improved: 0.571389 -> 0.555325\n"
          ]
        },
        {
          "name": "stderr",
          "output_type": "stream",
          "text": [
            "Epoch:  22%|██▏       | 44/200 [16:29<58:11, 22.38s/epoch]"
          ]
        },
        {
          "name": "stdout",
          "output_type": "stream",
          "text": [
            "Epoch 043 | LR 0.000733 | Train MSE 0.0296 | Val MSE 0.5861 | Val MAE 2.9743 | Val MSE 28.7208\n"
          ]
        },
        {
          "name": "stderr",
          "output_type": "stream",
          "text": [
            "Epoch:  22%|██▎       | 45/200 [16:51<57:43, 22.35s/epoch]"
          ]
        },
        {
          "name": "stdout",
          "output_type": "stream",
          "text": [
            "Epoch 044 | LR 0.000696 | Train MSE 0.0434 | Val MSE 0.6157 | Val MAE 3.2298 | Val MSE 30.1681\n"
          ]
        },
        {
          "name": "stderr",
          "output_type": "stream",
          "text": [
            "Epoch:  23%|██▎       | 46/200 [17:13<57:19, 22.34s/epoch]"
          ]
        },
        {
          "name": "stdout",
          "output_type": "stream",
          "text": [
            "Epoch 045 | LR 0.000661 | Train MSE 0.0664 | Val MSE 0.8174 | Val MAE 3.7410 | Val MSE 40.0525\n",
            "Sample pred first 3 steps: [[ 6.3966960e-04  1.3413094e-03]\n",
            " [-4.2123124e-03 -4.7946908e-03]\n",
            " [-1.0754928e-02  1.0367483e-05]]\n",
            "Sample target first 3 steps: [[3.2984033e-06 6.9473140e-06]\n",
            " [3.2984033e-06 6.9473140e-06]\n",
            " [3.2984033e-06 6.9473140e-06]]\n",
            "Sample input first 3 steps: [[-3.41748688e-07  1.43109173e-05  6.39591417e-06 -1.12966054e-05\n",
            "   2.33426189e+00]\n",
            " [-2.32525835e-07  1.40127395e-05  6.39591417e-06 -1.12966054e-05\n",
            "   2.33426213e+00]\n",
            " [-1.77852527e-07  1.37678999e-05 -9.72734483e-07 -4.35880975e-06\n",
            "   2.33426237e+00]]\n"
          ]
        },
        {
          "name": "stderr",
          "output_type": "stream",
          "text": [
            "Epoch:  24%|██▎       | 47/200 [17:36<56:58, 22.34s/epoch]"
          ]
        },
        {
          "name": "stdout",
          "output_type": "stream",
          "text": [
            "Epoch 046 | LR 0.000628 | Train MSE 0.0900 | Val MSE 0.5239 | Val MAE 2.7111 | Val MSE 25.6697\n",
            "Validation improved: 0.555325 -> 0.523871\n"
          ]
        },
        {
          "name": "stderr",
          "output_type": "stream",
          "text": [
            "Epoch:  24%|██▍       | 48/200 [17:59<57:05, 22.54s/epoch]"
          ]
        },
        {
          "name": "stdout",
          "output_type": "stream",
          "text": [
            "Epoch 047 | LR 0.000597 | Train MSE 0.1659 | Val MSE 1.1201 | Val MAE 4.7755 | Val MSE 54.8849\n"
          ]
        },
        {
          "name": "stderr",
          "output_type": "stream",
          "text": [
            "Epoch:  24%|██▍       | 49/200 [18:22<57:31, 22.86s/epoch]"
          ]
        },
        {
          "name": "stdout",
          "output_type": "stream",
          "text": [
            "Epoch 048 | LR 0.000567 | Train MSE 0.2281 | Val MSE 0.5557 | Val MAE 2.8411 | Val MSE 27.2297\n"
          ]
        },
        {
          "name": "stderr",
          "output_type": "stream",
          "text": [
            "Epoch:  25%|██▌       | 50/200 [18:45<56:57, 22.79s/epoch]"
          ]
        },
        {
          "name": "stdout",
          "output_type": "stream",
          "text": [
            "Epoch 049 | LR 0.000539 | Train MSE 0.4238 | Val MSE 0.5285 | Val MAE 2.8233 | Val MSE 25.8955\n"
          ]
        },
        {
          "name": "stderr",
          "output_type": "stream",
          "text": [
            "Epoch:  26%|██▌       | 51/200 [19:08<56:32, 22.77s/epoch]"
          ]
        },
        {
          "name": "stdout",
          "output_type": "stream",
          "text": [
            "Epoch 050 | LR 0.000512 | Train MSE 0.6325 | Val MSE 0.7227 | Val MAE 3.1696 | Val MSE 35.4135\n",
            "Sample pred first 3 steps: [[ 0.00249793 -0.00263767]\n",
            " [ 0.00810826  0.00941638]\n",
            " [-0.00429392 -0.0127654 ]]\n",
            "Sample target first 3 steps: [[3.2984033e-06 6.9473140e-06]\n",
            " [3.2984033e-06 6.9473140e-06]\n",
            " [3.2984033e-06 6.9473140e-06]]\n",
            "Sample input first 3 steps: [[-3.41748688e-07  1.43109173e-05  6.39591417e-06 -1.12966054e-05\n",
            "   2.33426189e+00]\n",
            " [-2.32525835e-07  1.40127395e-05  6.39591417e-06 -1.12966054e-05\n",
            "   2.33426213e+00]\n",
            " [-1.77852527e-07  1.37678999e-05 -9.72734483e-07 -4.35880975e-06\n",
            "   2.33426237e+00]]\n"
          ]
        },
        {
          "name": "stderr",
          "output_type": "stream",
          "text": [
            "Epoch:  26%|██▌       | 52/200 [19:32<57:34, 23.34s/epoch]"
          ]
        },
        {
          "name": "stdout",
          "output_type": "stream",
          "text": [
            "Epoch 051 | LR 0.000486 | Train MSE 0.5412 | Val MSE 0.4391 | Val MAE 2.4562 | Val MSE 21.5174\n",
            "Validation improved: 0.523871 -> 0.439130\n"
          ]
        },
        {
          "name": "stderr",
          "output_type": "stream",
          "text": [
            "Epoch:  26%|██▋       | 53/200 [19:58<58:44, 23.98s/epoch]"
          ]
        },
        {
          "name": "stdout",
          "output_type": "stream",
          "text": [
            "Epoch 052 | LR 0.000462 | Train MSE 0.4762 | Val MSE 0.5574 | Val MAE 3.1370 | Val MSE 27.3118\n"
          ]
        },
        {
          "name": "stderr",
          "output_type": "stream",
          "text": [
            "Epoch:  27%|██▋       | 54/200 [20:22<58:49, 24.18s/epoch]"
          ]
        },
        {
          "name": "stdout",
          "output_type": "stream",
          "text": [
            "Epoch 053 | LR 0.000439 | Train MSE 0.4586 | Val MSE 0.5025 | Val MAE 2.9276 | Val MSE 24.6225\n"
          ]
        },
        {
          "name": "stderr",
          "output_type": "stream",
          "text": [
            "Epoch:  28%|██▊       | 55/200 [20:47<58:57, 24.40s/epoch]"
          ]
        },
        {
          "name": "stdout",
          "output_type": "stream",
          "text": [
            "Epoch 054 | LR 0.000417 | Train MSE 0.4368 | Val MSE 0.5167 | Val MAE 2.9978 | Val MSE 25.3162\n"
          ]
        },
        {
          "name": "stderr",
          "output_type": "stream",
          "text": [
            "Epoch:  28%|██▊       | 56/200 [21:12<58:25, 24.34s/epoch]"
          ]
        },
        {
          "name": "stdout",
          "output_type": "stream",
          "text": [
            "Epoch 055 | LR 0.000396 | Train MSE 0.4325 | Val MSE 0.5009 | Val MAE 2.9521 | Val MSE 24.5428\n",
            "Sample pred first 3 steps: [[-0.0090854  -0.0041841 ]\n",
            " [ 0.01465036 -0.00853419]\n",
            " [-0.00500941  0.02011176]]\n",
            "Sample target first 3 steps: [[3.2984033e-06 6.9473140e-06]\n",
            " [3.2984033e-06 6.9473140e-06]\n",
            " [3.2984033e-06 6.9473140e-06]]\n",
            "Sample input first 3 steps: [[-3.41748688e-07  1.43109173e-05  6.39591417e-06 -1.12966054e-05\n",
            "   2.33426189e+00]\n",
            " [-2.32525835e-07  1.40127395e-05  6.39591417e-06 -1.12966054e-05\n",
            "   2.33426213e+00]\n",
            " [-1.77852527e-07  1.37678999e-05 -9.72734483e-07 -4.35880975e-06\n",
            "   2.33426237e+00]]\n"
          ]
        },
        {
          "name": "stderr",
          "output_type": "stream",
          "text": [
            "Epoch:  28%|██▊       | 57/200 [21:36<58:22, 24.50s/epoch]"
          ]
        },
        {
          "name": "stdout",
          "output_type": "stream",
          "text": [
            "Epoch 056 | LR 0.000376 | Train MSE 0.4256 | Val MSE 0.3897 | Val MAE 2.2241 | Val MSE 19.0932\n",
            "Validation improved: 0.439130 -> 0.389657\n"
          ]
        },
        {
          "name": "stderr",
          "output_type": "stream",
          "text": [
            "Epoch:  29%|██▉       | 58/200 [22:01<58:06, 24.55s/epoch]"
          ]
        },
        {
          "name": "stdout",
          "output_type": "stream",
          "text": [
            "Epoch 057 | LR 0.000357 | Train MSE 0.3951 | Val MSE 0.3772 | Val MAE 2.3953 | Val MSE 18.4845\n",
            "Validation improved: 0.389657 -> 0.377235\n"
          ]
        },
        {
          "name": "stderr",
          "output_type": "stream",
          "text": [
            "Epoch:  30%|██▉       | 59/200 [22:26<57:40, 24.54s/epoch]"
          ]
        },
        {
          "name": "stdout",
          "output_type": "stream",
          "text": [
            "Epoch 058 | LR 0.000339 | Train MSE 0.3935 | Val MSE 0.3615 | Val MAE 2.2345 | Val MSE 17.7133\n",
            "Validation improved: 0.377235 -> 0.361496\n"
          ]
        },
        {
          "name": "stderr",
          "output_type": "stream",
          "text": [
            "Epoch:  30%|███       | 60/200 [22:50<57:26, 24.62s/epoch]"
          ]
        },
        {
          "name": "stdout",
          "output_type": "stream",
          "text": [
            "Epoch 059 | LR 0.000322 | Train MSE 0.3676 | Val MSE 0.3248 | Val MAE 2.0340 | Val MSE 15.9169\n",
            "Validation improved: 0.361496 -> 0.324834\n"
          ]
        },
        {
          "name": "stderr",
          "output_type": "stream",
          "text": [
            "Epoch:  30%|███       | 61/200 [23:15<57:07, 24.66s/epoch]"
          ]
        },
        {
          "name": "stdout",
          "output_type": "stream",
          "text": [
            "Epoch 060 | LR 0.000306 | Train MSE 0.3514 | Val MSE 0.3624 | Val MAE 2.4536 | Val MSE 17.7598\n",
            "Sample pred first 3 steps: [[0.00856196 0.0165482 ]\n",
            " [0.01470356 0.00304718]\n",
            " [0.02448671 0.00283636]]\n",
            "Sample target first 3 steps: [[3.2984033e-06 6.9473140e-06]\n",
            " [3.2984033e-06 6.9473140e-06]\n",
            " [3.2984033e-06 6.9473140e-06]]\n",
            "Sample input first 3 steps: [[-3.41748688e-07  1.43109173e-05  6.39591417e-06 -1.12966054e-05\n",
            "   2.33426189e+00]\n",
            " [-2.32525835e-07  1.40127395e-05  6.39591417e-06 -1.12966054e-05\n",
            "   2.33426213e+00]\n",
            " [-1.77852527e-07  1.37678999e-05 -9.72734483e-07 -4.35880975e-06\n",
            "   2.33426237e+00]]\n"
          ]
        },
        {
          "name": "stderr",
          "output_type": "stream",
          "text": [
            "Epoch:  31%|███       | 62/200 [23:40<56:52, 24.72s/epoch]"
          ]
        },
        {
          "name": "stdout",
          "output_type": "stream",
          "text": [
            "Epoch 061 | LR 0.000291 | Train MSE 0.3387 | Val MSE 0.3026 | Val MAE 2.0143 | Val MSE 14.8258\n",
            "Validation improved: 0.324834 -> 0.302567\n"
          ]
        },
        {
          "name": "stderr",
          "output_type": "stream",
          "text": [
            "Epoch:  32%|███▏      | 63/200 [24:05<56:22, 24.69s/epoch]"
          ]
        },
        {
          "name": "stdout",
          "output_type": "stream",
          "text": [
            "Epoch 062 | LR 0.000276 | Train MSE 0.3291 | Val MSE 0.2963 | Val MAE 1.8931 | Val MSE 14.5200\n",
            "Validation improved: 0.302567 -> 0.296328\n"
          ]
        },
        {
          "name": "stderr",
          "output_type": "stream",
          "text": [
            "Epoch:  32%|███▏      | 64/200 [24:30<56:19, 24.85s/epoch]"
          ]
        },
        {
          "name": "stdout",
          "output_type": "stream",
          "text": [
            "Epoch 063 | LR 0.000263 | Train MSE 0.3164 | Val MSE 0.2874 | Val MAE 1.9219 | Val MSE 14.0807\n",
            "Validation improved: 0.296328 -> 0.287362\n"
          ]
        },
        {
          "name": "stderr",
          "output_type": "stream",
          "text": [
            "Epoch:  32%|███▎      | 65/200 [24:55<55:51, 24.82s/epoch]"
          ]
        },
        {
          "name": "stdout",
          "output_type": "stream",
          "text": [
            "Epoch 064 | LR 0.000250 | Train MSE 0.3054 | Val MSE 0.2682 | Val MAE 1.7686 | Val MSE 13.1394\n",
            "Validation improved: 0.287362 -> 0.268152\n"
          ]
        },
        {
          "name": "stderr",
          "output_type": "stream",
          "text": [
            "Epoch:  33%|███▎      | 66/200 [25:19<55:22, 24.80s/epoch]"
          ]
        },
        {
          "name": "stdout",
          "output_type": "stream",
          "text": [
            "Epoch 065 | LR 0.000237 | Train MSE 0.3003 | Val MSE 0.2785 | Val MAE 1.8734 | Val MSE 13.6463\n",
            "Sample pred first 3 steps: [[-0.00846578  0.0092064 ]\n",
            " [ 0.01227872 -0.00022174]\n",
            " [ 0.0306152  -0.00226919]]\n",
            "Sample target first 3 steps: [[3.2984033e-06 6.9473140e-06]\n",
            " [3.2984033e-06 6.9473140e-06]\n",
            " [3.2984033e-06 6.9473140e-06]]\n",
            "Sample input first 3 steps: [[-3.41748688e-07  1.43109173e-05  6.39591417e-06 -1.12966054e-05\n",
            "   2.33426189e+00]\n",
            " [-2.32525835e-07  1.40127395e-05  6.39591417e-06 -1.12966054e-05\n",
            "   2.33426213e+00]\n",
            " [-1.77852527e-07  1.37678999e-05 -9.72734483e-07 -4.35880975e-06\n",
            "   2.33426237e+00]]\n"
          ]
        },
        {
          "name": "stderr",
          "output_type": "stream",
          "text": [
            "Epoch:  34%|███▎      | 67/200 [25:44<54:55, 24.78s/epoch]"
          ]
        },
        {
          "name": "stdout",
          "output_type": "stream",
          "text": [
            "Epoch 066 | LR 0.000225 | Train MSE 0.2950 | Val MSE 0.2600 | Val MAE 1.8026 | Val MSE 12.7419\n",
            "Validation improved: 0.268152 -> 0.260040\n"
          ]
        },
        {
          "name": "stderr",
          "output_type": "stream",
          "text": [
            "Epoch:  34%|███▍      | 68/200 [26:09<54:36, 24.82s/epoch]"
          ]
        },
        {
          "name": "stdout",
          "output_type": "stream",
          "text": [
            "Epoch 067 | LR 0.000214 | Train MSE 0.2908 | Val MSE 0.2715 | Val MAE 1.9248 | Val MSE 13.3049\n"
          ]
        },
        {
          "name": "stderr",
          "output_type": "stream",
          "text": [
            "Epoch:  34%|███▍      | 69/200 [26:34<54:10, 24.81s/epoch]"
          ]
        },
        {
          "name": "stdout",
          "output_type": "stream",
          "text": [
            "Epoch 068 | LR 0.000203 | Train MSE 0.2857 | Val MSE 0.2524 | Val MAE 1.6868 | Val MSE 12.3667\n",
            "Validation improved: 0.260040 -> 0.252383\n"
          ]
        },
        {
          "name": "stderr",
          "output_type": "stream",
          "text": [
            "Epoch:  35%|███▌      | 70/200 [26:58<53:41, 24.78s/epoch]"
          ]
        },
        {
          "name": "stdout",
          "output_type": "stream",
          "text": [
            "Epoch 069 | LR 0.000193 | Train MSE 0.2835 | Val MSE 0.2685 | Val MAE 1.8738 | Val MSE 13.1569\n"
          ]
        },
        {
          "name": "stderr",
          "output_type": "stream",
          "text": [
            "Epoch:  36%|███▌      | 71/200 [27:23<53:14, 24.77s/epoch]"
          ]
        },
        {
          "name": "stdout",
          "output_type": "stream",
          "text": [
            "Epoch 070 | LR 0.000183 | Train MSE 0.2793 | Val MSE 0.2580 | Val MAE 1.8684 | Val MSE 12.6436\n",
            "Sample pred first 3 steps: [[-0.00228658 -0.00554489]\n",
            " [ 0.03055242 -0.00449575]\n",
            " [ 0.01746101 -0.01028374]]\n",
            "Sample target first 3 steps: [[3.2984033e-06 6.9473140e-06]\n",
            " [3.2984033e-06 6.9473140e-06]\n",
            " [3.2984033e-06 6.9473140e-06]]\n",
            "Sample input first 3 steps: [[-3.41748688e-07  1.43109173e-05  6.39591417e-06 -1.12966054e-05\n",
            "   2.33426189e+00]\n",
            " [-2.32525835e-07  1.40127395e-05  6.39591417e-06 -1.12966054e-05\n",
            "   2.33426213e+00]\n",
            " [-1.77852527e-07  1.37678999e-05 -9.72734483e-07 -4.35880975e-06\n",
            "   2.33426237e+00]]\n"
          ]
        },
        {
          "name": "stderr",
          "output_type": "stream",
          "text": [
            "Epoch:  36%|███▌      | 72/200 [27:48<52:53, 24.79s/epoch]"
          ]
        },
        {
          "name": "stdout",
          "output_type": "stream",
          "text": [
            "Epoch 071 | LR 0.000174 | Train MSE 0.2701 | Val MSE 0.2489 | Val MAE 1.7862 | Val MSE 12.1946\n",
            "Validation improved: 0.252383 -> 0.248870\n"
          ]
        },
        {
          "name": "stderr",
          "output_type": "stream",
          "text": [
            "Epoch:  36%|███▋      | 73/200 [28:13<52:26, 24.78s/epoch]"
          ]
        },
        {
          "name": "stdout",
          "output_type": "stream",
          "text": [
            "Epoch 072 | LR 0.000166 | Train MSE 0.2715 | Val MSE 0.2426 | Val MAE 1.6723 | Val MSE 11.8897\n",
            "Validation improved: 0.248870 -> 0.242646\n"
          ]
        },
        {
          "name": "stderr",
          "output_type": "stream",
          "text": [
            "Epoch:  37%|███▋      | 74/200 [28:37<51:51, 24.69s/epoch]"
          ]
        },
        {
          "name": "stdout",
          "output_type": "stream",
          "text": [
            "Epoch 073 | LR 0.000157 | Train MSE 0.2687 | Val MSE 0.2533 | Val MAE 1.7348 | Val MSE 12.4128\n"
          ]
        },
        {
          "name": "stderr",
          "output_type": "stream",
          "text": [
            "Epoch:  38%|███▊      | 75/200 [29:02<51:22, 24.66s/epoch]"
          ]
        },
        {
          "name": "stdout",
          "output_type": "stream",
          "text": [
            "Epoch 074 | LR 0.000149 | Train MSE 0.2639 | Val MSE 0.2466 | Val MAE 1.7585 | Val MSE 12.0842\n"
          ]
        },
        {
          "name": "stderr",
          "output_type": "stream",
          "text": [
            "Epoch:  38%|███▊      | 76/200 [29:27<51:00, 24.68s/epoch]"
          ]
        },
        {
          "name": "stdout",
          "output_type": "stream",
          "text": [
            "Epoch 075 | LR 0.000142 | Train MSE 0.2602 | Val MSE 0.2378 | Val MAE 1.6820 | Val MSE 11.6519\n",
            "Sample pred first 3 steps: [[-0.01464847 -0.00864322]\n",
            " [ 0.00643008 -0.00179116]\n",
            " [-0.01248137  0.00336919]]\n",
            "Sample target first 3 steps: [[3.2984033e-06 6.9473140e-06]\n",
            " [3.2984033e-06 6.9473140e-06]\n",
            " [3.2984033e-06 6.9473140e-06]]\n",
            "Sample input first 3 steps: [[-3.41748688e-07  1.43109173e-05  6.39591417e-06 -1.12966054e-05\n",
            "   2.33426189e+00]\n",
            " [-2.32525835e-07  1.40127395e-05  6.39591417e-06 -1.12966054e-05\n",
            "   2.33426213e+00]\n",
            " [-1.77852527e-07  1.37678999e-05 -9.72734483e-07 -4.35880975e-06\n",
            "   2.33426237e+00]]\n",
            "Validation improved: 0.242646 -> 0.237794\n"
          ]
        },
        {
          "name": "stderr",
          "output_type": "stream",
          "text": [
            "Epoch:  38%|███▊      | 77/200 [29:51<50:31, 24.65s/epoch]"
          ]
        },
        {
          "name": "stdout",
          "output_type": "stream",
          "text": [
            "Epoch 076 | LR 0.000135 | Train MSE 0.2584 | Val MSE 0.2551 | Val MAE 1.8035 | Val MSE 12.5003\n"
          ]
        },
        {
          "name": "stderr",
          "output_type": "stream",
          "text": [
            "Epoch:  39%|███▉      | 78/200 [30:16<50:04, 24.62s/epoch]"
          ]
        },
        {
          "name": "stdout",
          "output_type": "stream",
          "text": [
            "Epoch 077 | LR 0.000128 | Train MSE 0.2583 | Val MSE 0.2371 | Val MAE 1.7225 | Val MSE 11.6179\n",
            "Validation improved: 0.237794 -> 0.237100\n"
          ]
        },
        {
          "name": "stderr",
          "output_type": "stream",
          "text": [
            "Epoch:  40%|███▉      | 79/200 [30:40<49:35, 24.59s/epoch]"
          ]
        },
        {
          "name": "stdout",
          "output_type": "stream",
          "text": [
            "Epoch 078 | LR 0.000122 | Train MSE 0.2587 | Val MSE 0.2414 | Val MAE 1.6999 | Val MSE 11.8301\n"
          ]
        },
        {
          "name": "stderr",
          "output_type": "stream",
          "text": [
            "Epoch:  40%|████      | 80/200 [31:05<49:15, 24.63s/epoch]"
          ]
        },
        {
          "name": "stdout",
          "output_type": "stream",
          "text": [
            "Epoch 079 | LR 0.000116 | Train MSE 0.2549 | Val MSE 0.2390 | Val MAE 1.7254 | Val MSE 11.7088\n"
          ]
        },
        {
          "name": "stderr",
          "output_type": "stream",
          "text": [
            "Epoch:  40%|████      | 81/200 [31:29<48:46, 24.59s/epoch]"
          ]
        },
        {
          "name": "stdout",
          "output_type": "stream",
          "text": [
            "Epoch 080 | LR 0.000110 | Train MSE 0.2510 | Val MSE 0.2431 | Val MAE 1.8255 | Val MSE 11.9139\n",
            "Sample pred first 3 steps: [[ 0.01331344  0.00618025]\n",
            " [ 0.01979939 -0.00450522]\n",
            " [ 0.01414759 -0.01237075]]\n",
            "Sample target first 3 steps: [[3.2984033e-06 6.9473140e-06]\n",
            " [3.2984033e-06 6.9473140e-06]\n",
            " [3.2984033e-06 6.9473140e-06]]\n",
            "Sample input first 3 steps: [[-3.41748688e-07  1.43109173e-05  6.39591417e-06 -1.12966054e-05\n",
            "   2.33426189e+00]\n",
            " [-2.32525835e-07  1.40127395e-05  6.39591417e-06 -1.12966054e-05\n",
            "   2.33426213e+00]\n",
            " [-1.77852527e-07  1.37678999e-05 -9.72734483e-07 -4.35880975e-06\n",
            "   2.33426237e+00]]\n"
          ]
        },
        {
          "name": "stderr",
          "output_type": "stream",
          "text": [
            "Epoch:  41%|████      | 82/200 [31:54<48:27, 24.64s/epoch]"
          ]
        },
        {
          "name": "stdout",
          "output_type": "stream",
          "text": [
            "Epoch 081 | LR 0.000104 | Train MSE 0.2497 | Val MSE 0.2283 | Val MAE 1.6284 | Val MSE 11.1856\n",
            "Validation improved: 0.237100 -> 0.228278\n"
          ]
        },
        {
          "name": "stderr",
          "output_type": "stream",
          "text": [
            "Epoch:  42%|████▏     | 83/200 [32:19<48:03, 24.64s/epoch]"
          ]
        },
        {
          "name": "stdout",
          "output_type": "stream",
          "text": [
            "Epoch 082 | LR 0.000099 | Train MSE 0.2420 | Val MSE 0.2390 | Val MAE 1.7447 | Val MSE 11.7095\n"
          ]
        },
        {
          "name": "stderr",
          "output_type": "stream",
          "text": [
            "Epoch:  42%|████▏     | 84/200 [32:44<47:43, 24.68s/epoch]"
          ]
        },
        {
          "name": "stdout",
          "output_type": "stream",
          "text": [
            "Epoch 083 | LR 0.000094 | Train MSE 0.2428 | Val MSE 0.2256 | Val MAE 1.6550 | Val MSE 11.0524\n",
            "Validation improved: 0.228278 -> 0.225559\n"
          ]
        },
        {
          "name": "stderr",
          "output_type": "stream",
          "text": [
            "Epoch:  42%|████▎     | 85/200 [33:08<47:18, 24.68s/epoch]"
          ]
        },
        {
          "name": "stdout",
          "output_type": "stream",
          "text": [
            "Epoch 084 | LR 0.000089 | Train MSE 0.2395 | Val MSE 0.2287 | Val MAE 1.6210 | Val MSE 11.2074\n"
          ]
        },
        {
          "name": "stderr",
          "output_type": "stream",
          "text": [
            "Epoch:  43%|████▎     | 86/200 [33:33<46:45, 24.61s/epoch]"
          ]
        },
        {
          "name": "stdout",
          "output_type": "stream",
          "text": [
            "Epoch 085 | LR 0.000085 | Train MSE 0.2382 | Val MSE 0.2229 | Val MAE 1.6136 | Val MSE 10.9205\n",
            "Sample pred first 3 steps: [[-0.00330582 -0.00314094]\n",
            " [ 0.01393091 -0.00046915]\n",
            " [ 0.00599497 -0.01008461]]\n",
            "Sample target first 3 steps: [[3.2984033e-06 6.9473140e-06]\n",
            " [3.2984033e-06 6.9473140e-06]\n",
            " [3.2984033e-06 6.9473140e-06]]\n",
            "Sample input first 3 steps: [[-3.41748688e-07  1.43109173e-05  6.39591417e-06 -1.12966054e-05\n",
            "   2.33426189e+00]\n",
            " [-2.32525835e-07  1.40127395e-05  6.39591417e-06 -1.12966054e-05\n",
            "   2.33426213e+00]\n",
            " [-1.77852527e-07  1.37678999e-05 -9.72734483e-07 -4.35880975e-06\n",
            "   2.33426237e+00]]\n",
            "Validation improved: 0.225559 -> 0.222868\n"
          ]
        },
        {
          "name": "stderr",
          "output_type": "stream",
          "text": [
            "Epoch:  44%|████▎     | 87/200 [33:57<46:22, 24.63s/epoch]"
          ]
        },
        {
          "name": "stdout",
          "output_type": "stream",
          "text": [
            "Epoch 086 | LR 0.000081 | Train MSE 0.2389 | Val MSE 0.2343 | Val MAE 1.7655 | Val MSE 11.4794\n"
          ]
        },
        {
          "name": "stderr",
          "output_type": "stream",
          "text": [
            "Epoch:  44%|████▍     | 88/200 [34:22<46:03, 24.67s/epoch]"
          ]
        },
        {
          "name": "stdout",
          "output_type": "stream",
          "text": [
            "Epoch 087 | LR 0.000077 | Train MSE 0.2363 | Val MSE 0.2166 | Val MAE 1.6130 | Val MSE 10.6121\n",
            "Validation improved: 0.222868 -> 0.216573\n"
          ]
        },
        {
          "name": "stderr",
          "output_type": "stream",
          "text": [
            "Epoch:  44%|████▍     | 89/200 [34:47<45:32, 24.61s/epoch]"
          ]
        },
        {
          "name": "stdout",
          "output_type": "stream",
          "text": [
            "Epoch 088 | LR 0.000073 | Train MSE 0.2360 | Val MSE 0.2185 | Val MAE 1.6377 | Val MSE 10.7081\n"
          ]
        },
        {
          "name": "stderr",
          "output_type": "stream",
          "text": [
            "Epoch:  45%|████▌     | 90/200 [35:11<45:02, 24.57s/epoch]"
          ]
        },
        {
          "name": "stdout",
          "output_type": "stream",
          "text": [
            "Epoch 089 | LR 0.000069 | Train MSE 0.2306 | Val MSE 0.2187 | Val MAE 1.6068 | Val MSE 10.7148\n"
          ]
        },
        {
          "name": "stderr",
          "output_type": "stream",
          "text": [
            "Epoch:  46%|████▌     | 91/200 [35:36<44:42, 24.61s/epoch]"
          ]
        },
        {
          "name": "stdout",
          "output_type": "stream",
          "text": [
            "Epoch 090 | LR 0.000066 | Train MSE 0.2317 | Val MSE 0.2152 | Val MAE 1.5813 | Val MSE 10.5471\n",
            "Sample pred first 3 steps: [[-0.00073727  0.00189263]\n",
            " [ 0.00986952  0.00068096]\n",
            " [-0.00173526 -0.00766168]]\n",
            "Sample target first 3 steps: [[3.2984033e-06 6.9473140e-06]\n",
            " [3.2984033e-06 6.9473140e-06]\n",
            " [3.2984033e-06 6.9473140e-06]]\n",
            "Sample input first 3 steps: [[-3.41748688e-07  1.43109173e-05  6.39591417e-06 -1.12966054e-05\n",
            "   2.33426189e+00]\n",
            " [-2.32525835e-07  1.40127395e-05  6.39591417e-06 -1.12966054e-05\n",
            "   2.33426213e+00]\n",
            " [-1.77852527e-07  1.37678999e-05 -9.72734483e-07 -4.35880975e-06\n",
            "   2.33426237e+00]]\n",
            "Validation improved: 0.216573 -> 0.215247\n"
          ]
        },
        {
          "name": "stderr",
          "output_type": "stream",
          "text": [
            "Epoch:  46%|████▌     | 92/200 [36:01<44:25, 24.68s/epoch]"
          ]
        },
        {
          "name": "stdout",
          "output_type": "stream",
          "text": [
            "Epoch 091 | LR 0.000062 | Train MSE 0.2316 | Val MSE 0.2159 | Val MAE 1.6057 | Val MSE 10.5775\n"
          ]
        },
        {
          "name": "stderr",
          "output_type": "stream",
          "text": [
            "Epoch:  46%|████▋     | 93/200 [36:25<43:58, 24.66s/epoch]"
          ]
        },
        {
          "name": "stdout",
          "output_type": "stream",
          "text": [
            "Epoch 092 | LR 0.000059 | Train MSE 0.2293 | Val MSE 0.2141 | Val MAE 1.5626 | Val MSE 10.4890\n",
            "Validation improved: 0.215247 -> 0.214061\n"
          ]
        },
        {
          "name": "stderr",
          "output_type": "stream",
          "text": [
            "Epoch:  47%|████▋     | 94/200 [36:50<43:31, 24.64s/epoch]"
          ]
        },
        {
          "name": "stdout",
          "output_type": "stream",
          "text": [
            "Epoch 093 | LR 0.000056 | Train MSE 0.2286 | Val MSE 0.2167 | Val MAE 1.6275 | Val MSE 10.6168\n"
          ]
        },
        {
          "name": "stderr",
          "output_type": "stream",
          "text": [
            "Epoch:  48%|████▊     | 95/200 [37:15<43:06, 24.64s/epoch]"
          ]
        },
        {
          "name": "stdout",
          "output_type": "stream",
          "text": [
            "Epoch 094 | LR 0.000054 | Train MSE 0.2282 | Val MSE 0.2143 | Val MAE 1.6180 | Val MSE 10.5012\n"
          ]
        },
        {
          "name": "stderr",
          "output_type": "stream",
          "text": [
            "Epoch:  48%|████▊     | 96/200 [37:39<42:44, 24.66s/epoch]"
          ]
        },
        {
          "name": "stdout",
          "output_type": "stream",
          "text": [
            "Epoch 095 | LR 0.000051 | Train MSE 0.2261 | Val MSE 0.2287 | Val MAE 1.7771 | Val MSE 11.2075\n",
            "Sample pred first 3 steps: [[-0.00026517  0.00016007]\n",
            " [ 0.00074933  0.0085851 ]\n",
            " [-0.01114748  0.01389182]]\n",
            "Sample target first 3 steps: [[3.2984033e-06 6.9473140e-06]\n",
            " [3.2984033e-06 6.9473140e-06]\n",
            " [3.2984033e-06 6.9473140e-06]]\n",
            "Sample input first 3 steps: [[-3.41748688e-07  1.43109173e-05  6.39591417e-06 -1.12966054e-05\n",
            "   2.33426189e+00]\n",
            " [-2.32525835e-07  1.40127395e-05  6.39591417e-06 -1.12966054e-05\n",
            "   2.33426213e+00]\n",
            " [-1.77852527e-07  1.37678999e-05 -9.72734483e-07 -4.35880975e-06\n",
            "   2.33426237e+00]]\n"
          ]
        },
        {
          "name": "stderr",
          "output_type": "stream",
          "text": [
            "Epoch:  48%|████▊     | 97/200 [38:04<42:18, 24.64s/epoch]"
          ]
        },
        {
          "name": "stdout",
          "output_type": "stream",
          "text": [
            "Epoch 096 | LR 0.000048 | Train MSE 0.2257 | Val MSE 0.2125 | Val MAE 1.6113 | Val MSE 10.4141\n",
            "Validation improved: 0.214061 -> 0.212533\n"
          ]
        },
        {
          "name": "stderr",
          "output_type": "stream",
          "text": [
            "Epoch:  49%|████▉     | 98/200 [38:28<41:48, 24.59s/epoch]"
          ]
        },
        {
          "name": "stdout",
          "output_type": "stream",
          "text": [
            "Epoch 097 | LR 0.000046 | Train MSE 0.2242 | Val MSE 0.2100 | Val MAE 1.5515 | Val MSE 10.2921\n",
            "Validation improved: 0.212533 -> 0.210044\n"
          ]
        },
        {
          "name": "stderr",
          "output_type": "stream",
          "text": [
            "Epoch:  50%|████▉     | 99/200 [38:53<41:25, 24.61s/epoch]"
          ]
        },
        {
          "name": "stdout",
          "output_type": "stream",
          "text": [
            "Epoch 098 | LR 0.000044 | Train MSE 0.2223 | Val MSE 0.2067 | Val MAE 1.5619 | Val MSE 10.1261\n",
            "Validation improved: 0.210044 -> 0.206655\n"
          ]
        },
        {
          "name": "stderr",
          "output_type": "stream",
          "text": [
            "Epoch:  50%|█████     | 100/200 [39:18<41:05, 24.66s/epoch]"
          ]
        },
        {
          "name": "stdout",
          "output_type": "stream",
          "text": [
            "Epoch 099 | LR 0.000041 | Train MSE 0.2220 | Val MSE 0.2046 | Val MAE 1.5158 | Val MSE 10.0275\n",
            "Validation improved: 0.206655 -> 0.204642\n"
          ]
        },
        {
          "name": "stderr",
          "output_type": "stream",
          "text": [
            "Epoch:  50%|█████     | 101/200 [39:42<40:38, 24.63s/epoch]"
          ]
        },
        {
          "name": "stdout",
          "output_type": "stream",
          "text": [
            "Epoch 100 | LR 0.000039 | Train MSE 0.2187 | Val MSE 0.2064 | Val MAE 1.4899 | Val MSE 10.1149\n",
            "Sample pred first 3 steps: [[ 0.00090579  0.00331257]\n",
            " [ 0.00730554  0.00216396]\n",
            " [-0.00449898 -0.00724061]]\n",
            "Sample target first 3 steps: [[3.2984033e-06 6.9473140e-06]\n",
            " [3.2984033e-06 6.9473140e-06]\n",
            " [3.2984033e-06 6.9473140e-06]]\n",
            "Sample input first 3 steps: [[-3.41748688e-07  1.43109173e-05  6.39591417e-06 -1.12966054e-05\n",
            "   2.33426189e+00]\n",
            " [-2.32525835e-07  1.40127395e-05  6.39591417e-06 -1.12966054e-05\n",
            "   2.33426213e+00]\n",
            " [-1.77852527e-07  1.37678999e-05 -9.72734483e-07 -4.35880975e-06\n",
            "   2.33426237e+00]]\n"
          ]
        },
        {
          "name": "stderr",
          "output_type": "stream",
          "text": [
            "Epoch:  51%|█████     | 102/200 [40:07<40:12, 24.62s/epoch]"
          ]
        },
        {
          "name": "stdout",
          "output_type": "stream",
          "text": [
            "Epoch 101 | LR 0.000037 | Train MSE 0.2180 | Val MSE 0.2084 | Val MAE 1.5444 | Val MSE 10.2120\n"
          ]
        },
        {
          "name": "stderr",
          "output_type": "stream",
          "text": [
            "Epoch:  52%|█████▏    | 103/200 [40:31<39:41, 24.56s/epoch]"
          ]
        },
        {
          "name": "stdout",
          "output_type": "stream",
          "text": [
            "Epoch 102 | LR 0.000036 | Train MSE 0.2185 | Val MSE 0.2039 | Val MAE 1.5066 | Val MSE 9.9933\n",
            "Validation improved: 0.204642 -> 0.203944\n"
          ]
        },
        {
          "name": "stderr",
          "output_type": "stream",
          "text": [
            "Epoch:  52%|█████▏    | 104/200 [40:56<39:18, 24.57s/epoch]"
          ]
        },
        {
          "name": "stdout",
          "output_type": "stream",
          "text": [
            "Epoch 103 | LR 0.000034 | Train MSE 0.2168 | Val MSE 0.2070 | Val MAE 1.5351 | Val MSE 10.1420\n"
          ]
        },
        {
          "name": "stderr",
          "output_type": "stream",
          "text": [
            "Epoch:  52%|█████▎    | 105/200 [41:20<38:51, 24.55s/epoch]"
          ]
        },
        {
          "name": "stdout",
          "output_type": "stream",
          "text": [
            "Epoch 104 | LR 0.000032 | Train MSE 0.2181 | Val MSE 0.2026 | Val MAE 1.5301 | Val MSE 9.9273\n",
            "Validation improved: 0.203944 -> 0.202598\n"
          ]
        },
        {
          "name": "stderr",
          "output_type": "stream",
          "text": [
            "Epoch:  53%|█████▎    | 106/200 [41:45<38:24, 24.52s/epoch]"
          ]
        },
        {
          "name": "stdout",
          "output_type": "stream",
          "text": [
            "Epoch 105 | LR 0.000030 | Train MSE 0.2184 | Val MSE 0.2061 | Val MAE 1.5290 | Val MSE 10.0980\n",
            "Sample pred first 3 steps: [[ 0.00142281 -0.00195016]\n",
            " [ 0.00766365  0.00172123]\n",
            " [ 0.00281321 -0.00385641]]\n",
            "Sample target first 3 steps: [[3.2984033e-06 6.9473140e-06]\n",
            " [3.2984033e-06 6.9473140e-06]\n",
            " [3.2984033e-06 6.9473140e-06]]\n",
            "Sample input first 3 steps: [[-3.41748688e-07  1.43109173e-05  6.39591417e-06 -1.12966054e-05\n",
            "   2.33426189e+00]\n",
            " [-2.32525835e-07  1.40127395e-05  6.39591417e-06 -1.12966054e-05\n",
            "   2.33426213e+00]\n",
            " [-1.77852527e-07  1.37678999e-05 -9.72734483e-07 -4.35880975e-06\n",
            "   2.33426237e+00]]\n"
          ]
        },
        {
          "name": "stderr",
          "output_type": "stream",
          "text": [
            "Epoch:  54%|█████▎    | 107/200 [42:09<38:02, 24.55s/epoch]"
          ]
        },
        {
          "name": "stdout",
          "output_type": "stream",
          "text": [
            "Epoch 106 | LR 0.000029 | Train MSE 0.2169 | Val MSE 0.2058 | Val MAE 1.5604 | Val MSE 10.0826\n"
          ]
        },
        {
          "name": "stderr",
          "output_type": "stream",
          "text": [
            "Epoch:  54%|█████▍    | 108/200 [42:34<37:48, 24.65s/epoch]"
          ]
        },
        {
          "name": "stdout",
          "output_type": "stream",
          "text": [
            "Epoch 107 | LR 0.000027 | Train MSE 0.2173 | Val MSE 0.2020 | Val MAE 1.5349 | Val MSE 9.9002\n",
            "Validation improved: 0.202598 -> 0.202045\n"
          ]
        },
        {
          "name": "stderr",
          "output_type": "stream",
          "text": [
            "Epoch:  55%|█████▍    | 109/200 [42:59<37:20, 24.62s/epoch]"
          ]
        },
        {
          "name": "stdout",
          "output_type": "stream",
          "text": [
            "Epoch 108 | LR 0.000026 | Train MSE 0.2159 | Val MSE 0.2047 | Val MAE 1.5125 | Val MSE 10.0307\n"
          ]
        },
        {
          "name": "stderr",
          "output_type": "stream",
          "text": [
            "Epoch:  55%|█████▌    | 110/200 [43:24<36:57, 24.64s/epoch]"
          ]
        },
        {
          "name": "stdout",
          "output_type": "stream",
          "text": [
            "Epoch 109 | LR 0.000025 | Train MSE 0.2144 | Val MSE 0.2023 | Val MAE 1.5095 | Val MSE 9.9138\n"
          ]
        },
        {
          "name": "stderr",
          "output_type": "stream",
          "text": [
            "Epoch:  56%|█████▌    | 111/200 [43:48<36:35, 24.67s/epoch]"
          ]
        },
        {
          "name": "stdout",
          "output_type": "stream",
          "text": [
            "Epoch 110 | LR 0.000024 | Train MSE 0.2123 | Val MSE 0.2023 | Val MAE 1.4906 | Val MSE 9.9146\n",
            "Sample pred first 3 steps: [[ 0.00156643 -0.00109103]\n",
            " [ 0.00256448  0.0029045 ]\n",
            " [-0.0040674  -0.00235859]]\n",
            "Sample target first 3 steps: [[3.2984033e-06 6.9473140e-06]\n",
            " [3.2984033e-06 6.9473140e-06]\n",
            " [3.2984033e-06 6.9473140e-06]]\n",
            "Sample input first 3 steps: [[-3.41748688e-07  1.43109173e-05  6.39591417e-06 -1.12966054e-05\n",
            "   2.33426189e+00]\n",
            " [-2.32525835e-07  1.40127395e-05  6.39591417e-06 -1.12966054e-05\n",
            "   2.33426213e+00]\n",
            " [-1.77852527e-07  1.37678999e-05 -9.72734483e-07 -4.35880975e-06\n",
            "   2.33426237e+00]]\n"
          ]
        },
        {
          "name": "stderr",
          "output_type": "stream",
          "text": [
            "Epoch:  56%|█████▌    | 112/200 [44:13<36:15, 24.72s/epoch]"
          ]
        },
        {
          "name": "stdout",
          "output_type": "stream",
          "text": [
            "Epoch 111 | LR 0.000022 | Train MSE 0.2133 | Val MSE 0.2026 | Val MAE 1.5269 | Val MSE 9.9286\n"
          ]
        },
        {
          "name": "stderr",
          "output_type": "stream",
          "text": [
            "Epoch:  56%|█████▋    | 113/200 [44:38<35:54, 24.76s/epoch]"
          ]
        },
        {
          "name": "stdout",
          "output_type": "stream",
          "text": [
            "Epoch 112 | LR 0.000021 | Train MSE 0.2135 | Val MSE 0.1995 | Val MAE 1.4744 | Val MSE 9.7767\n",
            "Validation improved: 0.202045 -> 0.199524\n"
          ]
        },
        {
          "name": "stderr",
          "output_type": "stream",
          "text": [
            "Epoch:  57%|█████▋    | 114/200 [45:03<35:24, 24.70s/epoch]"
          ]
        },
        {
          "name": "stdout",
          "output_type": "stream",
          "text": [
            "Epoch 113 | LR 0.000020 | Train MSE 0.2115 | Val MSE 0.2034 | Val MAE 1.5525 | Val MSE 9.9689\n"
          ]
        },
        {
          "name": "stderr",
          "output_type": "stream",
          "text": [
            "Epoch:  57%|█████▊    | 115/200 [45:27<34:54, 24.64s/epoch]"
          ]
        },
        {
          "name": "stdout",
          "output_type": "stream",
          "text": [
            "Epoch 114 | LR 0.000019 | Train MSE 0.2128 | Val MSE 0.2024 | Val MAE 1.4844 | Val MSE 9.9170\n"
          ]
        },
        {
          "name": "stderr",
          "output_type": "stream",
          "text": [
            "Epoch:  58%|█████▊    | 116/200 [45:52<34:36, 24.72s/epoch]"
          ]
        },
        {
          "name": "stdout",
          "output_type": "stream",
          "text": [
            "Epoch 115 | LR 0.000018 | Train MSE 0.2103 | Val MSE 0.1988 | Val MAE 1.4828 | Val MSE 9.7435\n",
            "Sample pred first 3 steps: [[ 0.00422458 -0.00289841]\n",
            " [ 0.00607551  0.00470005]\n",
            " [-0.00311437 -0.0029947 ]]\n",
            "Sample target first 3 steps: [[3.2984033e-06 6.9473140e-06]\n",
            " [3.2984033e-06 6.9473140e-06]\n",
            " [3.2984033e-06 6.9473140e-06]]\n",
            "Sample input first 3 steps: [[-3.41748688e-07  1.43109173e-05  6.39591417e-06 -1.12966054e-05\n",
            "   2.33426189e+00]\n",
            " [-2.32525835e-07  1.40127395e-05  6.39591417e-06 -1.12966054e-05\n",
            "   2.33426213e+00]\n",
            " [-1.77852527e-07  1.37678999e-05 -9.72734483e-07 -4.35880975e-06\n",
            "   2.33426237e+00]]\n",
            "Validation improved: 0.199524 -> 0.198848\n"
          ]
        },
        {
          "name": "stderr",
          "output_type": "stream",
          "text": [
            "Epoch:  58%|█████▊    | 117/200 [46:16<34:02, 24.61s/epoch]"
          ]
        },
        {
          "name": "stdout",
          "output_type": "stream",
          "text": [
            "Epoch 116 | LR 0.000017 | Train MSE 0.2114 | Val MSE 0.2009 | Val MAE 1.4916 | Val MSE 9.8435\n"
          ]
        },
        {
          "name": "stderr",
          "output_type": "stream",
          "text": [
            "Epoch:  59%|█████▉    | 118/200 [46:41<33:40, 24.64s/epoch]"
          ]
        },
        {
          "name": "stdout",
          "output_type": "stream",
          "text": [
            "Epoch 117 | LR 0.000016 | Train MSE 0.2117 | Val MSE 0.1977 | Val MAE 1.4813 | Val MSE 9.6893\n",
            "Validation improved: 0.198848 -> 0.197742\n"
          ]
        },
        {
          "name": "stderr",
          "output_type": "stream",
          "text": [
            "Epoch:  60%|█████▉    | 119/200 [47:06<33:15, 24.64s/epoch]"
          ]
        },
        {
          "name": "stdout",
          "output_type": "stream",
          "text": [
            "Epoch 118 | LR 0.000016 | Train MSE 0.2100 | Val MSE 0.1974 | Val MAE 1.4636 | Val MSE 9.6718\n",
            "Validation improved: 0.197742 -> 0.197385\n"
          ]
        },
        {
          "name": "stderr",
          "output_type": "stream",
          "text": [
            "Epoch:  60%|██████    | 120/200 [47:30<32:50, 24.63s/epoch]"
          ]
        },
        {
          "name": "stdout",
          "output_type": "stream",
          "text": [
            "Epoch 119 | LR 0.000015 | Train MSE 0.2079 | Val MSE 0.2009 | Val MAE 1.4781 | Val MSE 9.8452\n"
          ]
        },
        {
          "name": "stderr",
          "output_type": "stream",
          "text": [
            "Epoch:  60%|██████    | 121/200 [47:55<32:18, 24.54s/epoch]"
          ]
        },
        {
          "name": "stdout",
          "output_type": "stream",
          "text": [
            "Epoch 120 | LR 0.000014 | Train MSE 0.2096 | Val MSE 0.1980 | Val MAE 1.4671 | Val MSE 9.7020\n",
            "Sample pred first 3 steps: [[ 2.0690039e-03  8.1185251e-05]\n",
            " [ 2.5578663e-03  3.6371090e-03]\n",
            " [-3.8638189e-03 -4.7381781e-03]]\n",
            "Sample target first 3 steps: [[3.2984033e-06 6.9473140e-06]\n",
            " [3.2984033e-06 6.9473140e-06]\n",
            " [3.2984033e-06 6.9473140e-06]]\n",
            "Sample input first 3 steps: [[-3.41748688e-07  1.43109173e-05  6.39591417e-06 -1.12966054e-05\n",
            "   2.33426189e+00]\n",
            " [-2.32525835e-07  1.40127395e-05  6.39591417e-06 -1.12966054e-05\n",
            "   2.33426213e+00]\n",
            " [-1.77852527e-07  1.37678999e-05 -9.72734483e-07 -4.35880975e-06\n",
            "   2.33426237e+00]]\n"
          ]
        },
        {
          "name": "stderr",
          "output_type": "stream",
          "text": [
            "Epoch:  61%|██████    | 122/200 [48:19<31:59, 24.61s/epoch]"
          ]
        },
        {
          "name": "stdout",
          "output_type": "stream",
          "text": [
            "Epoch 121 | LR 0.000013 | Train MSE 0.2073 | Val MSE 0.1987 | Val MAE 1.4668 | Val MSE 9.7360\n"
          ]
        },
        {
          "name": "stderr",
          "output_type": "stream",
          "text": [
            "Epoch:  62%|██████▏   | 123/200 [48:44<31:32, 24.58s/epoch]"
          ]
        },
        {
          "name": "stdout",
          "output_type": "stream",
          "text": [
            "Epoch 122 | LR 0.000013 | Train MSE 0.2083 | Val MSE 0.1972 | Val MAE 1.4716 | Val MSE 9.6610\n",
            "Validation improved: 0.197385 -> 0.197164\n"
          ]
        },
        {
          "name": "stderr",
          "output_type": "stream",
          "text": [
            "Epoch:  62%|██████▏   | 124/200 [49:09<31:13, 24.65s/epoch]"
          ]
        },
        {
          "name": "stdout",
          "output_type": "stream",
          "text": [
            "Epoch 123 | LR 0.000012 | Train MSE 0.2078 | Val MSE 0.1992 | Val MAE 1.4908 | Val MSE 9.7623\n"
          ]
        },
        {
          "name": "stderr",
          "output_type": "stream",
          "text": [
            "Epoch:  62%|██████▎   | 125/200 [49:33<30:49, 24.67s/epoch]"
          ]
        },
        {
          "name": "stdout",
          "output_type": "stream",
          "text": [
            "Epoch 124 | LR 0.000011 | Train MSE 0.2091 | Val MSE 0.1986 | Val MAE 1.4801 | Val MSE 9.7332\n"
          ]
        },
        {
          "name": "stderr",
          "output_type": "stream",
          "text": [
            "Epoch:  63%|██████▎   | 126/200 [49:58<30:24, 24.65s/epoch]"
          ]
        },
        {
          "name": "stdout",
          "output_type": "stream",
          "text": [
            "Epoch 125 | LR 0.000011 | Train MSE 0.2085 | Val MSE 0.1986 | Val MAE 1.4846 | Val MSE 9.7331\n",
            "Sample pred first 3 steps: [[ 0.00143807 -0.00096899]\n",
            " [ 0.00262835  0.00642873]\n",
            " [-0.00535885  0.00236099]]\n",
            "Sample target first 3 steps: [[3.2984033e-06 6.9473140e-06]\n",
            " [3.2984033e-06 6.9473140e-06]\n",
            " [3.2984033e-06 6.9473140e-06]]\n",
            "Sample input first 3 steps: [[-3.41748688e-07  1.43109173e-05  6.39591417e-06 -1.12966054e-05\n",
            "   2.33426189e+00]\n",
            " [-2.32525835e-07  1.40127395e-05  6.39591417e-06 -1.12966054e-05\n",
            "   2.33426213e+00]\n",
            " [-1.77852527e-07  1.37678999e-05 -9.72734483e-07 -4.35880975e-06\n",
            "   2.33426237e+00]]\n"
          ]
        },
        {
          "name": "stderr",
          "output_type": "stream",
          "text": [
            "Epoch:  64%|██████▎   | 127/200 [50:23<30:05, 24.73s/epoch]"
          ]
        },
        {
          "name": "stdout",
          "output_type": "stream",
          "text": [
            "Epoch 126 | LR 0.000010 | Train MSE 0.2102 | Val MSE 0.1965 | Val MAE 1.4701 | Val MSE 9.6303\n",
            "Validation improved: 0.197164 -> 0.196538\n"
          ]
        },
        {
          "name": "stderr",
          "output_type": "stream",
          "text": [
            "Epoch:  64%|██████▍   | 128/200 [50:48<29:56, 24.95s/epoch]"
          ]
        },
        {
          "name": "stdout",
          "output_type": "stream",
          "text": [
            "Epoch 127 | LR 0.000010 | Train MSE 0.2083 | Val MSE 0.1990 | Val MAE 1.4759 | Val MSE 9.7501\n"
          ]
        },
        {
          "name": "stderr",
          "output_type": "stream",
          "text": [
            "Epoch:  64%|██████▍   | 129/200 [51:15<29:56, 25.30s/epoch]"
          ]
        },
        {
          "name": "stdout",
          "output_type": "stream",
          "text": [
            "Epoch 128 | LR 0.000009 | Train MSE 0.2086 | Val MSE 0.1988 | Val MAE 1.4764 | Val MSE 9.7401\n"
          ]
        },
        {
          "name": "stderr",
          "output_type": "stream",
          "text": [
            "Epoch:  65%|██████▌   | 130/200 [51:41<29:55, 25.65s/epoch]"
          ]
        },
        {
          "name": "stdout",
          "output_type": "stream",
          "text": [
            "Epoch 129 | LR 0.000009 | Train MSE 0.2103 | Val MSE 0.1978 | Val MAE 1.4578 | Val MSE 9.6899\n"
          ]
        },
        {
          "name": "stderr",
          "output_type": "stream",
          "text": [
            "Epoch:  66%|██████▌   | 131/200 [52:07<29:36, 25.75s/epoch]"
          ]
        },
        {
          "name": "stdout",
          "output_type": "stream",
          "text": [
            "Epoch 130 | LR 0.000008 | Train MSE 0.2068 | Val MSE 0.1970 | Val MAE 1.4691 | Val MSE 9.6551\n",
            "Sample pred first 3 steps: [[ 0.00311125 -0.0001344 ]\n",
            " [ 0.00312706  0.00361162]\n",
            " [-0.0052822  -0.00147561]]\n",
            "Sample target first 3 steps: [[3.2984033e-06 6.9473140e-06]\n",
            " [3.2984033e-06 6.9473140e-06]\n",
            " [3.2984033e-06 6.9473140e-06]]\n",
            "Sample input first 3 steps: [[-3.41748688e-07  1.43109173e-05  6.39591417e-06 -1.12966054e-05\n",
            "   2.33426189e+00]\n",
            " [-2.32525835e-07  1.40127395e-05  6.39591417e-06 -1.12966054e-05\n",
            "   2.33426213e+00]\n",
            " [-1.77852527e-07  1.37678999e-05 -9.72734483e-07 -4.35880975e-06\n",
            "   2.33426237e+00]]\n"
          ]
        },
        {
          "name": "stderr",
          "output_type": "stream",
          "text": [
            "Epoch:  66%|██████▌   | 132/200 [52:32<29:02, 25.62s/epoch]"
          ]
        },
        {
          "name": "stdout",
          "output_type": "stream",
          "text": [
            "Epoch 131 | LR 0.000008 | Train MSE 0.2085 | Val MSE 0.1953 | Val MAE 1.4404 | Val MSE 9.5708\n",
            "Validation improved: 0.196538 -> 0.195324\n"
          ]
        },
        {
          "name": "stderr",
          "output_type": "stream",
          "text": [
            "Epoch:  66%|██████▋   | 133/200 [52:58<28:28, 25.51s/epoch]"
          ]
        },
        {
          "name": "stdout",
          "output_type": "stream",
          "text": [
            "Epoch 132 | LR 0.000008 | Train MSE 0.2072 | Val MSE 0.1965 | Val MAE 1.4495 | Val MSE 9.6286\n"
          ]
        },
        {
          "name": "stderr",
          "output_type": "stream",
          "text": [
            "Epoch:  67%|██████▋   | 134/200 [53:23<28:09, 25.59s/epoch]"
          ]
        },
        {
          "name": "stdout",
          "output_type": "stream",
          "text": [
            "Epoch 133 | LR 0.000007 | Train MSE 0.2090 | Val MSE 0.1984 | Val MAE 1.4862 | Val MSE 9.7230\n"
          ]
        },
        {
          "name": "stderr",
          "output_type": "stream",
          "text": [
            "Epoch:  68%|██████▊   | 135/200 [53:49<27:42, 25.58s/epoch]"
          ]
        },
        {
          "name": "stdout",
          "output_type": "stream",
          "text": [
            "Epoch 134 | LR 0.000007 | Train MSE 0.2063 | Val MSE 0.1972 | Val MAE 1.4998 | Val MSE 9.6641\n"
          ]
        },
        {
          "name": "stderr",
          "output_type": "stream",
          "text": [
            "Epoch:  68%|██████▊   | 136/200 [54:15<27:21, 25.65s/epoch]"
          ]
        },
        {
          "name": "stdout",
          "output_type": "stream",
          "text": [
            "Epoch 135 | LR 0.000007 | Train MSE 0.2062 | Val MSE 0.1980 | Val MAE 1.4723 | Val MSE 9.7026\n",
            "Sample pred first 3 steps: [[ 0.00053339  0.00197209]\n",
            " [ 0.00285404  0.00614338]\n",
            " [-0.0069683  -0.0016219 ]]\n",
            "Sample target first 3 steps: [[3.2984033e-06 6.9473140e-06]\n",
            " [3.2984033e-06 6.9473140e-06]\n",
            " [3.2984033e-06 6.9473140e-06]]\n",
            "Sample input first 3 steps: [[-3.41748688e-07  1.43109173e-05  6.39591417e-06 -1.12966054e-05\n",
            "   2.33426189e+00]\n",
            " [-2.32525835e-07  1.40127395e-05  6.39591417e-06 -1.12966054e-05\n",
            "   2.33426213e+00]\n",
            " [-1.77852527e-07  1.37678999e-05 -9.72734483e-07 -4.35880975e-06\n",
            "   2.33426237e+00]]\n"
          ]
        },
        {
          "name": "stderr",
          "output_type": "stream",
          "text": [
            "Epoch:  68%|██████▊   | 137/200 [54:40<26:44, 25.47s/epoch]"
          ]
        },
        {
          "name": "stdout",
          "output_type": "stream",
          "text": [
            "Epoch 136 | LR 0.000006 | Train MSE 0.2071 | Val MSE 0.1956 | Val MAE 1.4507 | Val MSE 9.5841\n"
          ]
        },
        {
          "name": "stderr",
          "output_type": "stream",
          "text": [
            "Epoch:  69%|██████▉   | 138/200 [55:06<26:29, 25.64s/epoch]"
          ]
        },
        {
          "name": "stdout",
          "output_type": "stream",
          "text": [
            "Epoch 137 | LR 0.000006 | Train MSE 0.2063 | Val MSE 0.1982 | Val MAE 1.4531 | Val MSE 9.7094\n"
          ]
        },
        {
          "name": "stderr",
          "output_type": "stream",
          "text": [
            "Epoch:  70%|██████▉   | 139/200 [55:32<26:04, 25.65s/epoch]"
          ]
        },
        {
          "name": "stdout",
          "output_type": "stream",
          "text": [
            "Epoch 138 | LR 0.000006 | Train MSE 0.2040 | Val MSE 0.1952 | Val MAE 1.4492 | Val MSE 9.5635\n",
            "Validation improved: 0.195324 -> 0.195173\n"
          ]
        },
        {
          "name": "stderr",
          "output_type": "stream",
          "text": [
            "Epoch:  70%|███████   | 140/200 [55:58<25:50, 25.84s/epoch]"
          ]
        },
        {
          "name": "stdout",
          "output_type": "stream",
          "text": [
            "Epoch 139 | LR 0.000005 | Train MSE 0.2082 | Val MSE 0.1960 | Val MAE 1.4631 | Val MSE 9.6025\n"
          ]
        },
        {
          "name": "stderr",
          "output_type": "stream",
          "text": [
            "Epoch:  70%|███████   | 141/200 [56:24<25:37, 26.06s/epoch]"
          ]
        },
        {
          "name": "stdout",
          "output_type": "stream",
          "text": [
            "Epoch 140 | LR 0.000005 | Train MSE 0.2058 | Val MSE 0.1961 | Val MAE 1.4521 | Val MSE 9.6093\n",
            "Sample pred first 3 steps: [[ 3.3596009e-03  9.7256154e-05]\n",
            " [ 5.6617409e-03  5.0690286e-03]\n",
            " [-3.6884993e-03  1.9678101e-04]]\n",
            "Sample target first 3 steps: [[3.2984033e-06 6.9473140e-06]\n",
            " [3.2984033e-06 6.9473140e-06]\n",
            " [3.2984033e-06 6.9473140e-06]]\n",
            "Sample input first 3 steps: [[-3.41748688e-07  1.43109173e-05  6.39591417e-06 -1.12966054e-05\n",
            "   2.33426189e+00]\n",
            " [-2.32525835e-07  1.40127395e-05  6.39591417e-06 -1.12966054e-05\n",
            "   2.33426213e+00]\n",
            " [-1.77852527e-07  1.37678999e-05 -9.72734483e-07 -4.35880975e-06\n",
            "   2.33426237e+00]]\n"
          ]
        },
        {
          "name": "stderr",
          "output_type": "stream",
          "text": [
            "Epoch:  71%|███████   | 142/200 [56:50<25:03, 25.93s/epoch]"
          ]
        },
        {
          "name": "stdout",
          "output_type": "stream",
          "text": [
            "Epoch 141 | LR 0.000005 | Train MSE 0.2056 | Val MSE 0.1955 | Val MAE 1.4527 | Val MSE 9.5775\n"
          ]
        },
        {
          "name": "stderr",
          "output_type": "stream",
          "text": [
            "Epoch:  72%|███████▏  | 143/200 [57:16<24:37, 25.93s/epoch]"
          ]
        },
        {
          "name": "stdout",
          "output_type": "stream",
          "text": [
            "Epoch 142 | LR 0.000005 | Train MSE 0.2045 | Val MSE 0.1959 | Val MAE 1.4556 | Val MSE 9.5999\n"
          ]
        },
        {
          "name": "stderr",
          "output_type": "stream",
          "text": [
            "Epoch:  72%|███████▏  | 144/200 [57:41<24:03, 25.77s/epoch]"
          ]
        },
        {
          "name": "stdout",
          "output_type": "stream",
          "text": [
            "Epoch 143 | LR 0.000004 | Train MSE 0.2062 | Val MSE 0.1951 | Val MAE 1.4566 | Val MSE 9.5595\n",
            "Validation improved: 0.195173 -> 0.195093\n"
          ]
        },
        {
          "name": "stderr",
          "output_type": "stream",
          "text": [
            "Epoch:  72%|███████▎  | 145/200 [58:06<23:12, 25.32s/epoch]"
          ]
        },
        {
          "name": "stdout",
          "output_type": "stream",
          "text": [
            "Epoch 144 | LR 0.000004 | Train MSE 0.2059 | Val MSE 0.1954 | Val MAE 1.4443 | Val MSE 9.5742\n"
          ]
        },
        {
          "name": "stderr",
          "output_type": "stream",
          "text": [
            "Epoch:  73%|███████▎  | 146/200 [58:31<22:41, 25.21s/epoch]"
          ]
        },
        {
          "name": "stdout",
          "output_type": "stream",
          "text": [
            "Epoch 145 | LR 0.000004 | Train MSE 0.2056 | Val MSE 0.1951 | Val MAE 1.4668 | Val MSE 9.5579\n",
            "Sample pred first 3 steps: [[ 1.5755221e-03 -9.4786286e-05]\n",
            " [ 4.2249039e-03  4.2509884e-03]\n",
            " [-3.4647807e-03  1.5659481e-03]]\n",
            "Sample target first 3 steps: [[3.2984033e-06 6.9473140e-06]\n",
            " [3.2984033e-06 6.9473140e-06]\n",
            " [3.2984033e-06 6.9473140e-06]]\n",
            "Sample input first 3 steps: [[-3.41748688e-07  1.43109173e-05  6.39591417e-06 -1.12966054e-05\n",
            "   2.33426189e+00]\n",
            " [-2.32525835e-07  1.40127395e-05  6.39591417e-06 -1.12966054e-05\n",
            "   2.33426213e+00]\n",
            " [-1.77852527e-07  1.37678999e-05 -9.72734483e-07 -4.35880975e-06\n",
            "   2.33426237e+00]]\n",
            "Validation improved: 0.195093 -> 0.195059\n"
          ]
        },
        {
          "name": "stderr",
          "output_type": "stream",
          "text": [
            "Epoch:  74%|███████▎  | 147/200 [58:59<23:01, 26.07s/epoch]"
          ]
        },
        {
          "name": "stdout",
          "output_type": "stream",
          "text": [
            "Epoch 146 | LR 0.000004 | Train MSE 0.2057 | Val MSE 0.1951 | Val MAE 1.4597 | Val MSE 9.5617\n"
          ]
        },
        {
          "name": "stderr",
          "output_type": "stream",
          "text": [
            "Epoch:  74%|███████▍  | 148/200 [59:24<22:32, 26.00s/epoch]"
          ]
        },
        {
          "name": "stdout",
          "output_type": "stream",
          "text": [
            "Epoch 147 | LR 0.000004 | Train MSE 0.2063 | Val MSE 0.1966 | Val MAE 1.4619 | Val MSE 9.6322\n"
          ]
        },
        {
          "name": "stderr",
          "output_type": "stream",
          "text": [
            "Epoch:  74%|███████▍  | 149/200 [59:50<22:02, 25.93s/epoch]"
          ]
        },
        {
          "name": "stdout",
          "output_type": "stream",
          "text": [
            "Epoch 148 | LR 0.000003 | Train MSE 0.2066 | Val MSE 0.1954 | Val MAE 1.4592 | Val MSE 9.5727\n"
          ]
        },
        {
          "name": "stderr",
          "output_type": "stream",
          "text": [
            "Epoch:  75%|███████▌  | 150/200 [1:00:18<21:57, 26.35s/epoch]"
          ]
        },
        {
          "name": "stdout",
          "output_type": "stream",
          "text": [
            "Epoch 149 | LR 0.000003 | Train MSE 0.2055 | Val MSE 0.1951 | Val MAE 1.4448 | Val MSE 9.5610\n"
          ]
        },
        {
          "name": "stderr",
          "output_type": "stream",
          "text": [
            "Epoch:  76%|███████▌  | 151/200 [1:00:43<21:23, 26.19s/epoch]"
          ]
        },
        {
          "name": "stdout",
          "output_type": "stream",
          "text": [
            "Epoch 150 | LR 0.000003 | Train MSE 0.2050 | Val MSE 0.1951 | Val MAE 1.4479 | Val MSE 9.5577\n",
            "Sample pred first 3 steps: [[ 0.00201183  0.00054549]\n",
            " [ 0.00471794  0.0040586 ]\n",
            " [-0.00458879 -0.00109744]]\n",
            "Sample target first 3 steps: [[3.2984033e-06 6.9473140e-06]\n",
            " [3.2984033e-06 6.9473140e-06]\n",
            " [3.2984033e-06 6.9473140e-06]]\n",
            "Sample input first 3 steps: [[-3.41748688e-07  1.43109173e-05  6.39591417e-06 -1.12966054e-05\n",
            "   2.33426189e+00]\n",
            " [-2.32525835e-07  1.40127395e-05  6.39591417e-06 -1.12966054e-05\n",
            "   2.33426213e+00]\n",
            " [-1.77852527e-07  1.37678999e-05 -9.72734483e-07 -4.35880975e-06\n",
            "   2.33426237e+00]]\n",
            "Validation improved: 0.195059 -> 0.195055\n"
          ]
        },
        {
          "name": "stderr",
          "output_type": "stream",
          "text": [
            "Epoch:  76%|███████▌  | 152/200 [1:01:08<20:34, 25.71s/epoch]"
          ]
        },
        {
          "name": "stdout",
          "output_type": "stream",
          "text": [
            "Epoch 151 | LR 0.000003 | Train MSE 0.2052 | Val MSE 0.1944 | Val MAE 1.4436 | Val MSE 9.5278\n",
            "Validation improved: 0.195055 -> 0.194444\n"
          ]
        },
        {
          "name": "stderr",
          "output_type": "stream",
          "text": [
            "Epoch:  76%|███████▋  | 153/200 [1:01:33<19:56, 25.45s/epoch]"
          ]
        },
        {
          "name": "stdout",
          "output_type": "stream",
          "text": [
            "Epoch 152 | LR 0.000003 | Train MSE 0.2061 | Val MSE 0.1963 | Val MAE 1.4569 | Val MSE 9.6199\n"
          ]
        },
        {
          "name": "stderr",
          "output_type": "stream",
          "text": [
            "Epoch:  77%|███████▋  | 154/200 [1:01:58<19:21, 25.25s/epoch]"
          ]
        },
        {
          "name": "stdout",
          "output_type": "stream",
          "text": [
            "Epoch 153 | LR 0.000003 | Train MSE 0.2059 | Val MSE 0.1957 | Val MAE 1.4499 | Val MSE 9.5868\n"
          ]
        },
        {
          "name": "stderr",
          "output_type": "stream",
          "text": [
            "Epoch:  78%|███████▊  | 155/200 [1:02:23<18:57, 25.28s/epoch]"
          ]
        },
        {
          "name": "stdout",
          "output_type": "stream",
          "text": [
            "Epoch 154 | LR 0.000002 | Train MSE 0.2042 | Val MSE 0.1963 | Val MAE 1.4671 | Val MSE 9.6190\n"
          ]
        },
        {
          "name": "stderr",
          "output_type": "stream",
          "text": [
            "Epoch:  78%|███████▊  | 156/200 [1:02:48<18:35, 25.34s/epoch]"
          ]
        },
        {
          "name": "stdout",
          "output_type": "stream",
          "text": [
            "Epoch 155 | LR 0.000002 | Train MSE 0.2037 | Val MSE 0.1946 | Val MAE 1.4526 | Val MSE 9.5358\n",
            "Sample pred first 3 steps: [[ 2.4551004e-03  7.9646707e-06]\n",
            " [ 5.5450052e-03  3.8748458e-03]\n",
            " [-2.0264238e-03 -1.7462745e-03]]\n",
            "Sample target first 3 steps: [[3.2984033e-06 6.9473140e-06]\n",
            " [3.2984033e-06 6.9473140e-06]\n",
            " [3.2984033e-06 6.9473140e-06]]\n",
            "Sample input first 3 steps: [[-3.41748688e-07  1.43109173e-05  6.39591417e-06 -1.12966054e-05\n",
            "   2.33426189e+00]\n",
            " [-2.32525835e-07  1.40127395e-05  6.39591417e-06 -1.12966054e-05\n",
            "   2.33426213e+00]\n",
            " [-1.77852527e-07  1.37678999e-05 -9.72734483e-07 -4.35880975e-06\n",
            "   2.33426237e+00]]\n"
          ]
        },
        {
          "name": "stderr",
          "output_type": "stream",
          "text": [
            "Epoch:  78%|███████▊  | 157/200 [1:03:14<18:08, 25.31s/epoch]"
          ]
        },
        {
          "name": "stdout",
          "output_type": "stream",
          "text": [
            "Epoch 156 | LR 0.000002 | Train MSE 0.2045 | Val MSE 0.1965 | Val MAE 1.4653 | Val MSE 9.6302\n"
          ]
        },
        {
          "name": "stderr",
          "output_type": "stream",
          "text": [
            "Epoch:  79%|███████▉  | 158/200 [1:03:38<17:35, 25.14s/epoch]"
          ]
        },
        {
          "name": "stdout",
          "output_type": "stream",
          "text": [
            "Epoch 157 | LR 0.000002 | Train MSE 0.2051 | Val MSE 0.1942 | Val MAE 1.4476 | Val MSE 9.5151\n",
            "Validation improved: 0.194444 -> 0.194187\n"
          ]
        },
        {
          "name": "stderr",
          "output_type": "stream",
          "text": [
            "Epoch:  80%|███████▉  | 159/200 [1:04:03<17:05, 25.01s/epoch]"
          ]
        },
        {
          "name": "stdout",
          "output_type": "stream",
          "text": [
            "Epoch 158 | LR 0.000002 | Train MSE 0.2044 | Val MSE 0.1950 | Val MAE 1.4526 | Val MSE 9.5546\n"
          ]
        },
        {
          "name": "stderr",
          "output_type": "stream",
          "text": [
            "Epoch:  80%|████████  | 160/200 [1:04:29<16:52, 25.31s/epoch]"
          ]
        },
        {
          "name": "stdout",
          "output_type": "stream",
          "text": [
            "Epoch 159 | LR 0.000002 | Train MSE 0.2028 | Val MSE 0.1954 | Val MAE 1.4491 | Val MSE 9.5746\n"
          ]
        },
        {
          "name": "stderr",
          "output_type": "stream",
          "text": [
            "Epoch:  80%|████████  | 161/200 [1:04:55<16:31, 25.43s/epoch]"
          ]
        },
        {
          "name": "stdout",
          "output_type": "stream",
          "text": [
            "Epoch 160 | LR 0.000002 | Train MSE 0.2058 | Val MSE 0.1955 | Val MAE 1.4684 | Val MSE 9.5808\n",
            "Sample pred first 3 steps: [[ 0.00145316  0.00079044]\n",
            " [ 0.00325221  0.0046561 ]\n",
            " [-0.00422734  0.00219502]]\n",
            "Sample target first 3 steps: [[3.2984033e-06 6.9473140e-06]\n",
            " [3.2984033e-06 6.9473140e-06]\n",
            " [3.2984033e-06 6.9473140e-06]]\n",
            "Sample input first 3 steps: [[-3.41748688e-07  1.43109173e-05  6.39591417e-06 -1.12966054e-05\n",
            "   2.33426189e+00]\n",
            " [-2.32525835e-07  1.40127395e-05  6.39591417e-06 -1.12966054e-05\n",
            "   2.33426213e+00]\n",
            " [-1.77852527e-07  1.37678999e-05 -9.72734483e-07 -4.35880975e-06\n",
            "   2.33426237e+00]]\n"
          ]
        },
        {
          "name": "stderr",
          "output_type": "stream",
          "text": [
            "Epoch:  81%|████████  | 162/200 [1:05:21<16:18, 25.74s/epoch]"
          ]
        },
        {
          "name": "stdout",
          "output_type": "stream",
          "text": [
            "Epoch 161 | LR 0.000002 | Train MSE 0.2024 | Val MSE 0.1949 | Val MAE 1.4469 | Val MSE 9.5521\n"
          ]
        },
        {
          "name": "stderr",
          "output_type": "stream",
          "text": [
            "Epoch:  82%|████████▏ | 163/200 [1:05:47<15:57, 25.87s/epoch]"
          ]
        },
        {
          "name": "stdout",
          "output_type": "stream",
          "text": [
            "Epoch 162 | LR 0.000002 | Train MSE 0.2041 | Val MSE 0.1954 | Val MAE 1.4465 | Val MSE 9.5738\n"
          ]
        },
        {
          "name": "stderr",
          "output_type": "stream",
          "text": [
            "Epoch:  82%|████████▏ | 164/200 [1:06:13<15:32, 25.90s/epoch]"
          ]
        },
        {
          "name": "stdout",
          "output_type": "stream",
          "text": [
            "Epoch 163 | LR 0.000002 | Train MSE 0.2043 | Val MSE 0.1944 | Val MAE 1.4518 | Val MSE 9.5270\n"
          ]
        },
        {
          "name": "stderr",
          "output_type": "stream",
          "text": [
            "Epoch:  82%|████████▎ | 165/200 [1:06:41<15:25, 26.44s/epoch]"
          ]
        },
        {
          "name": "stdout",
          "output_type": "stream",
          "text": [
            "Epoch 164 | LR 0.000001 | Train MSE 0.2041 | Val MSE 0.1948 | Val MAE 1.4504 | Val MSE 9.5449\n"
          ]
        },
        {
          "name": "stderr",
          "output_type": "stream",
          "text": [
            "Epoch:  83%|████████▎ | 166/200 [1:07:06<14:43, 25.98s/epoch]"
          ]
        },
        {
          "name": "stdout",
          "output_type": "stream",
          "text": [
            "Epoch 165 | LR 0.000001 | Train MSE 0.2039 | Val MSE 0.1942 | Val MAE 1.4392 | Val MSE 9.5143\n",
            "Sample pred first 3 steps: [[ 0.00169224  0.00033005]\n",
            " [ 0.00527816  0.00355639]\n",
            " [-0.00274751 -0.00173976]]\n",
            "Sample target first 3 steps: [[3.2984033e-06 6.9473140e-06]\n",
            " [3.2984033e-06 6.9473140e-06]\n",
            " [3.2984033e-06 6.9473140e-06]]\n",
            "Sample input first 3 steps: [[-3.41748688e-07  1.43109173e-05  6.39591417e-06 -1.12966054e-05\n",
            "   2.33426189e+00]\n",
            " [-2.32525835e-07  1.40127395e-05  6.39591417e-06 -1.12966054e-05\n",
            "   2.33426213e+00]\n",
            " [-1.77852527e-07  1.37678999e-05 -9.72734483e-07 -4.35880975e-06\n",
            "   2.33426237e+00]]\n",
            "Validation improved: 0.194187 -> 0.194169\n"
          ]
        },
        {
          "name": "stderr",
          "output_type": "stream",
          "text": [
            "Epoch:  84%|████████▎ | 167/200 [1:07:33<14:23, 26.17s/epoch]"
          ]
        },
        {
          "name": "stdout",
          "output_type": "stream",
          "text": [
            "Epoch 166 | LR 0.000001 | Train MSE 0.2059 | Val MSE 0.1954 | Val MAE 1.4496 | Val MSE 9.5753\n"
          ]
        },
        {
          "name": "stderr",
          "output_type": "stream",
          "text": [
            "Epoch:  84%|████████▍ | 168/200 [1:08:00<14:10, 26.59s/epoch]"
          ]
        },
        {
          "name": "stdout",
          "output_type": "stream",
          "text": [
            "Epoch 167 | LR 0.000001 | Train MSE 0.2037 | Val MSE 0.1952 | Val MAE 1.4532 | Val MSE 9.5641\n"
          ]
        },
        {
          "name": "stderr",
          "output_type": "stream",
          "text": [
            "Epoch:  84%|████████▍ | 169/200 [1:08:26<13:38, 26.39s/epoch]"
          ]
        },
        {
          "name": "stdout",
          "output_type": "stream",
          "text": [
            "Epoch 168 | LR 0.000001 | Train MSE 0.2033 | Val MSE 0.1949 | Val MAE 1.4444 | Val MSE 9.5497\n"
          ]
        },
        {
          "name": "stderr",
          "output_type": "stream",
          "text": [
            "Epoch:  85%|████████▌ | 170/200 [1:08:52<13:08, 26.29s/epoch]"
          ]
        },
        {
          "name": "stdout",
          "output_type": "stream",
          "text": [
            "Epoch 169 | LR 0.000001 | Train MSE 0.2026 | Val MSE 0.1948 | Val MAE 1.4478 | Val MSE 9.5473\n"
          ]
        },
        {
          "name": "stderr",
          "output_type": "stream",
          "text": [
            "Epoch:  86%|████████▌ | 171/200 [1:09:22<13:14, 27.40s/epoch]"
          ]
        },
        {
          "name": "stdout",
          "output_type": "stream",
          "text": [
            "Epoch 170 | LR 0.000001 | Train MSE 0.2048 | Val MSE 0.1950 | Val MAE 1.4457 | Val MSE 9.5559\n",
            "Sample pred first 3 steps: [[ 0.00144986  0.00021341]\n",
            " [ 0.00462183  0.0032933 ]\n",
            " [-0.00282682 -0.00136811]]\n",
            "Sample target first 3 steps: [[3.2984033e-06 6.9473140e-06]\n",
            " [3.2984033e-06 6.9473140e-06]\n",
            " [3.2984033e-06 6.9473140e-06]]\n",
            "Sample input first 3 steps: [[-3.41748688e-07  1.43109173e-05  6.39591417e-06 -1.12966054e-05\n",
            "   2.33426189e+00]\n",
            " [-2.32525835e-07  1.40127395e-05  6.39591417e-06 -1.12966054e-05\n",
            "   2.33426213e+00]\n",
            " [-1.77852527e-07  1.37678999e-05 -9.72734483e-07 -4.35880975e-06\n",
            "   2.33426237e+00]]\n"
          ]
        },
        {
          "name": "stderr",
          "output_type": "stream",
          "text": [
            "Epoch:  86%|████████▌ | 172/200 [1:09:47<12:25, 26.61s/epoch]"
          ]
        },
        {
          "name": "stdout",
          "output_type": "stream",
          "text": [
            "Epoch 171 | LR 0.000001 | Train MSE 0.2042 | Val MSE 0.1956 | Val MAE 1.4502 | Val MSE 9.5825\n"
          ]
        },
        {
          "name": "stderr",
          "output_type": "stream",
          "text": [
            "Epoch:  86%|████████▋ | 173/200 [1:10:12<11:43, 26.05s/epoch]"
          ]
        },
        {
          "name": "stdout",
          "output_type": "stream",
          "text": [
            "Epoch 172 | LR 0.000001 | Train MSE 0.2050 | Val MSE 0.1949 | Val MAE 1.4506 | Val MSE 9.5524\n"
          ]
        },
        {
          "name": "stderr",
          "output_type": "stream",
          "text": [
            "Epoch:  87%|████████▋ | 174/200 [1:10:36<11:04, 25.55s/epoch]"
          ]
        },
        {
          "name": "stdout",
          "output_type": "stream",
          "text": [
            "Epoch 173 | LR 0.000001 | Train MSE 0.2033 | Val MSE 0.1949 | Val MAE 1.4461 | Val MSE 9.5497\n"
          ]
        },
        {
          "name": "stderr",
          "output_type": "stream",
          "text": [
            "Epoch:  88%|████████▊ | 175/200 [1:11:01<10:34, 25.38s/epoch]"
          ]
        },
        {
          "name": "stdout",
          "output_type": "stream",
          "text": [
            "Epoch 174 | LR 0.000001 | Train MSE 0.2037 | Val MSE 0.1947 | Val MAE 1.4455 | Val MSE 9.5398\n"
          ]
        },
        {
          "name": "stderr",
          "output_type": "stream",
          "text": [
            "Epoch:  88%|████████▊ | 176/200 [1:11:27<10:09, 25.41s/epoch]"
          ]
        },
        {
          "name": "stdout",
          "output_type": "stream",
          "text": [
            "Epoch 175 | LR 0.000001 | Train MSE 0.2033 | Val MSE 0.1945 | Val MAE 1.4399 | Val MSE 9.5324\n",
            "Sample pred first 3 steps: [[ 0.00167502  0.00031387]\n",
            " [ 0.00487845  0.00358375]\n",
            " [-0.00264652 -0.00153111]]\n",
            "Sample target first 3 steps: [[3.2984033e-06 6.9473140e-06]\n",
            " [3.2984033e-06 6.9473140e-06]\n",
            " [3.2984033e-06 6.9473140e-06]]\n",
            "Sample input first 3 steps: [[-3.41748688e-07  1.43109173e-05  6.39591417e-06 -1.12966054e-05\n",
            "   2.33426189e+00]\n",
            " [-2.32525835e-07  1.40127395e-05  6.39591417e-06 -1.12966054e-05\n",
            "   2.33426213e+00]\n",
            " [-1.77852527e-07  1.37678999e-05 -9.72734483e-07 -4.35880975e-06\n",
            "   2.33426237e+00]]\n"
          ]
        },
        {
          "name": "stderr",
          "output_type": "stream",
          "text": [
            "Epoch:  88%|████████▊ | 177/200 [1:11:52<09:43, 25.39s/epoch]"
          ]
        },
        {
          "name": "stdout",
          "output_type": "stream",
          "text": [
            "Epoch 176 | LR 0.000001 | Train MSE 0.2049 | Val MSE 0.1948 | Val MAE 1.4481 | Val MSE 9.5443\n"
          ]
        },
        {
          "name": "stderr",
          "output_type": "stream",
          "text": [
            "Epoch:  89%|████████▉ | 178/200 [1:12:17<09:16, 25.28s/epoch]"
          ]
        },
        {
          "name": "stdout",
          "output_type": "stream",
          "text": [
            "Epoch 177 | LR 0.000001 | Train MSE 0.2048 | Val MSE 0.1949 | Val MAE 1.4455 | Val MSE 9.5480\n"
          ]
        },
        {
          "name": "stderr",
          "output_type": "stream",
          "text": [
            "Epoch:  90%|████████▉ | 179/200 [1:12:43<08:53, 25.42s/epoch]"
          ]
        },
        {
          "name": "stdout",
          "output_type": "stream",
          "text": [
            "Epoch 178 | LR 0.000001 | Train MSE 0.2039 | Val MSE 0.1951 | Val MAE 1.4474 | Val MSE 9.5615\n"
          ]
        },
        {
          "name": "stderr",
          "output_type": "stream",
          "text": [
            "Epoch:  90%|█████████ | 180/200 [1:13:09<08:35, 25.77s/epoch]"
          ]
        },
        {
          "name": "stdout",
          "output_type": "stream",
          "text": [
            "Epoch 179 | LR 0.000001 | Train MSE 0.2037 | Val MSE 0.1950 | Val MAE 1.4424 | Val MSE 9.5557\n"
          ]
        },
        {
          "name": "stderr",
          "output_type": "stream",
          "text": [
            "Epoch:  90%|█████████ | 181/200 [1:13:35<08:10, 25.79s/epoch]"
          ]
        },
        {
          "name": "stdout",
          "output_type": "stream",
          "text": [
            "Epoch 180 | LR 0.000001 | Train MSE 0.2031 | Val MSE 0.1951 | Val MAE 1.4473 | Val MSE 9.5580\n",
            "Sample pred first 3 steps: [[ 1.9001886e-03  7.4643642e-05]\n",
            " [ 5.0743893e-03  3.9541610e-03]\n",
            " [-2.8178915e-03 -1.2448989e-03]]\n",
            "Sample target first 3 steps: [[3.2984033e-06 6.9473140e-06]\n",
            " [3.2984033e-06 6.9473140e-06]\n",
            " [3.2984033e-06 6.9473140e-06]]\n",
            "Sample input first 3 steps: [[-3.41748688e-07  1.43109173e-05  6.39591417e-06 -1.12966054e-05\n",
            "   2.33426189e+00]\n",
            " [-2.32525835e-07  1.40127395e-05  6.39591417e-06 -1.12966054e-05\n",
            "   2.33426213e+00]\n",
            " [-1.77852527e-07  1.37678999e-05 -9.72734483e-07 -4.35880975e-06\n",
            "   2.33426237e+00]]\n"
          ]
        },
        {
          "name": "stderr",
          "output_type": "stream",
          "text": [
            "Epoch:  91%|█████████ | 182/200 [1:14:02<07:48, 26.03s/epoch]"
          ]
        },
        {
          "name": "stdout",
          "output_type": "stream",
          "text": [
            "Epoch 181 | LR 0.000001 | Train MSE 0.2041 | Val MSE 0.1951 | Val MAE 1.4463 | Val MSE 9.5584\n"
          ]
        },
        {
          "name": "stderr",
          "output_type": "stream",
          "text": [
            "Epoch:  92%|█████████▏| 183/200 [1:14:28<07:24, 26.13s/epoch]"
          ]
        },
        {
          "name": "stdout",
          "output_type": "stream",
          "text": [
            "Epoch 182 | LR 0.000001 | Train MSE 0.2033 | Val MSE 0.1949 | Val MAE 1.4433 | Val MSE 9.5517\n"
          ]
        },
        {
          "name": "stderr",
          "output_type": "stream",
          "text": [
            "Epoch:  92%|█████████▏| 184/200 [1:14:57<07:13, 27.07s/epoch]"
          ]
        },
        {
          "name": "stdout",
          "output_type": "stream",
          "text": [
            "Epoch 183 | LR 0.000001 | Train MSE 0.2037 | Val MSE 0.1949 | Val MAE 1.4456 | Val MSE 9.5517\n"
          ]
        },
        {
          "name": "stderr",
          "output_type": "stream",
          "text": [
            "Epoch:  92%|█████████▎| 185/200 [1:15:26<06:51, 27.45s/epoch]"
          ]
        },
        {
          "name": "stdout",
          "output_type": "stream",
          "text": [
            "Epoch 184 | LR 0.000001 | Train MSE 0.2037 | Val MSE 0.1947 | Val MAE 1.4469 | Val MSE 9.5415\n"
          ]
        },
        {
          "name": "stderr",
          "output_type": "stream",
          "text": [
            "Epoch:  92%|█████████▎| 185/200 [1:15:51<06:09, 24.60s/epoch]\n"
          ]
        },
        {
          "name": "stdout",
          "output_type": "stream",
          "text": [
            "Epoch 185 | LR 0.000001 | Train MSE 0.2040 | Val MSE 0.1950 | Val MAE 1.4426 | Val MSE 9.5534\n",
            "Sample pred first 3 steps: [[ 0.00198031 -0.00010427]\n",
            " [ 0.00469074  0.00404942]\n",
            " [-0.00298768 -0.00083145]]\n",
            "Sample target first 3 steps: [[3.2984033e-06 6.9473140e-06]\n",
            " [3.2984033e-06 6.9473140e-06]\n",
            " [3.2984033e-06 6.9473140e-06]]\n",
            "Sample input first 3 steps: [[-3.41748688e-07  1.43109173e-05  6.39591417e-06 -1.12966054e-05\n",
            "   2.33426189e+00]\n",
            " [-2.32525835e-07  1.40127395e-05  6.39591417e-06 -1.12966054e-05\n",
            "   2.33426213e+00]\n",
            " [-1.77852527e-07  1.37678999e-05 -9.72734483e-07 -4.35880975e-06\n",
            "   2.33426237e+00]]\n",
            "Early stopping after 186 epochs without improvement\n"
          ]
        },
        {
          "ename": "TypeError",
          "evalue": "'Tensor' object is not callable",
          "output_type": "error",
          "traceback": [
            "\u001b[0;31m---------------------------------------------------------------------------\u001b[0m",
            "\u001b[0;31mTypeError\u001b[0m                                 Traceback (most recent call last)",
            "Cell \u001b[0;32mIn[12], line 1\u001b[0m\n\u001b[0;32m----> 1\u001b[0m \u001b[43mtrain_and_evaluate_model\u001b[49m\u001b[43m(\u001b[49m\u001b[43m)\u001b[49m\n",
            "Cell \u001b[0;32mIn[11], line 26\u001b[0m, in \u001b[0;36mtrain_and_evaluate_model\u001b[0;34m()\u001b[0m\n\u001b[1;32m     24\u001b[0m \u001b[38;5;28;01mfor\u001b[39;00m batch \u001b[38;5;129;01min\u001b[39;00m val_dataloader:\n\u001b[1;32m     25\u001b[0m     batch \u001b[38;5;241m=\u001b[39m batch\u001b[38;5;241m.\u001b[39mto(device)\n\u001b[0;32m---> 26\u001b[0m     pred \u001b[38;5;241m=\u001b[39m \u001b[43mmodel\u001b[49m\u001b[43m(\u001b[49m\u001b[43mbatch\u001b[49m\u001b[43m)\u001b[49m\u001b[43m(\u001b[49m\u001b[38;5;241;43m-\u001b[39;49m\u001b[38;5;241;43m1\u001b[39;49m\u001b[43m,\u001b[49m\u001b[43m \u001b[49m\u001b[43mnum_agents\u001b[49m\u001b[43m,\u001b[49m\u001b[43m \u001b[49m\u001b[38;5;241;43m60\u001b[39;49m\u001b[43m,\u001b[49m\u001b[43m \u001b[49m\u001b[43mmodel\u001b[49m\u001b[38;5;241;43m.\u001b[39;49m\u001b[43moutput_dim\u001b[49m\u001b[43m)\u001b[49m\n\u001b[1;32m     27\u001b[0m     y \u001b[38;5;241m=\u001b[39m batch\u001b[38;5;241m.\u001b[39my\u001b[38;5;241m.\u001b[39mview(\u001b[38;5;241m-\u001b[39m\u001b[38;5;241m1\u001b[39m, num_agents, \u001b[38;5;241m60\u001b[39m, model\u001b[38;5;241m.\u001b[39moutput_dim)\n\u001b[1;32m     29\u001b[0m     \u001b[38;5;66;03m# Unnormalize\u001b[39;00m\n",
            "\u001b[0;31mTypeError\u001b[0m: 'Tensor' object is not callable"
          ]
        }
      ],
      "source": [
        "train_and_evaluate_model()"
      ]
    },
    {
      "cell_type": "markdown",
      "metadata": {},
      "source": [
        "# Final Pred"
      ]
    },
    {
      "cell_type": "code",
      "execution_count": 68,
      "metadata": {},
      "outputs": [],
      "source": [
        "test_dataset = TrajectoryDatasetTest(test_data, scale=scale)\n",
        "test_loader = DataLoader(test_dataset, batch_size=32, shuffle=False,\n",
        "                         collate_fn=lambda xs: Batch.from_data_list(xs))\n",
        "\n",
        "best_model2 = torch.load(best_model)\n",
        "model = AutoRegressiveLSTM(input_dim=5, output_dim = 5, hidden_dim=512).to(device)\n",
        "# optimizer = optim.Adam(model.parameters(), lr=1e-3, weight_decay=1e-4)\n",
        "# scheduler = optim.lr_scheduler.StepLR(optimizer, step_size=20, gamma=0.25) # You can try different schedulers\n",
        "# criterion = nn.MSELoss()\n",
        "\n",
        "model.load_state_dict(best_model2)\n",
        "model.eval()\n",
        "\n",
        "pred_list = []\n",
        "with torch.no_grad():\n",
        "    for batch in test_loader:\n",
        "        batch = batch.to(device)\n",
        "        pred_norm = model(batch)\n",
        "        \n",
        "        # Reshape the prediction to (N, 60, 2)\n",
        "        pred = pred_norm[...,:2] * batch.scale.view(-1,1,1) + batch.origin.unsqueeze(1)\n",
        "        pred_list.append(pred.cpu().numpy())\n",
        "pred_list = np.concatenate(pred_list, axis=0)  # (N,60,2)\n",
        "pred_output = pred_list.reshape(-1, 2)  # (N*60, 2)\n",
        "output_df = pd.DataFrame(pred_output, columns=['x', 'y'])\n",
        "output_df.index.name = 'index'\n",
        "output_df.to_csv('submission_lstm_5_out.csv', index=True)"
      ]
    },
    {
      "cell_type": "code",
      "execution_count": 69,
      "metadata": {},
      "outputs": [
        {
          "data": {
            "text/html": [
              "<div>\n",
              "<style scoped>\n",
              "    .dataframe tbody tr th:only-of-type {\n",
              "        vertical-align: middle;\n",
              "    }\n",
              "\n",
              "    .dataframe tbody tr th {\n",
              "        vertical-align: top;\n",
              "    }\n",
              "\n",
              "    .dataframe thead th {\n",
              "        text-align: right;\n",
              "    }\n",
              "</style>\n",
              "<table border=\"1\" class=\"dataframe\">\n",
              "  <thead>\n",
              "    <tr style=\"text-align: right;\">\n",
              "      <th></th>\n",
              "      <th>x</th>\n",
              "      <th>y</th>\n",
              "    </tr>\n",
              "    <tr>\n",
              "      <th>index</th>\n",
              "      <th></th>\n",
              "      <th></th>\n",
              "    </tr>\n",
              "  </thead>\n",
              "  <tbody>\n",
              "    <tr>\n",
              "      <th>0</th>\n",
              "      <td>5426.052734</td>\n",
              "      <td>1467.540771</td>\n",
              "    </tr>\n",
              "    <tr>\n",
              "      <th>1</th>\n",
              "      <td>5426.041992</td>\n",
              "      <td>1467.670532</td>\n",
              "    </tr>\n",
              "    <tr>\n",
              "      <th>2</th>\n",
              "      <td>5426.288086</td>\n",
              "      <td>1467.650269</td>\n",
              "    </tr>\n",
              "    <tr>\n",
              "      <th>3</th>\n",
              "      <td>5426.220215</td>\n",
              "      <td>1467.730713</td>\n",
              "    </tr>\n",
              "    <tr>\n",
              "      <th>4</th>\n",
              "      <td>5426.110352</td>\n",
              "      <td>1467.654907</td>\n",
              "    </tr>\n",
              "  </tbody>\n",
              "</table>\n",
              "</div>"
            ],
            "text/plain": [
              "                 x            y\n",
              "index                          \n",
              "0      5426.052734  1467.540771\n",
              "1      5426.041992  1467.670532\n",
              "2      5426.288086  1467.650269\n",
              "3      5426.220215  1467.730713\n",
              "4      5426.110352  1467.654907"
            ]
          },
          "execution_count": 69,
          "metadata": {},
          "output_type": "execute_result"
        }
      ],
      "source": [
        "output_df.head()"
      ]
    },
    {
      "cell_type": "code",
      "execution_count": null,
      "metadata": {},
      "outputs": [],
      "source": []
    }
  ],
  "metadata": {
    "colab": {
      "name": "data-loading-and-submission-preperation",
      "provenance": []
    },
    "kaggle": {
      "accelerator": "none",
      "dataSources": [],
      "dockerImageVersionId": 30918,
      "isGpuEnabled": false,
      "isInternetEnabled": false,
      "language": "python",
      "sourceType": "notebook"
    },
    "kernelspec": {
      "display_name": "data_science",
      "language": "python",
      "name": "python3"
    },
    "language_info": {
      "codemirror_mode": {
        "name": "ipython",
        "version": 3
      },
      "file_extension": ".py",
      "mimetype": "text/x-python",
      "name": "python",
      "nbconvert_exporter": "python",
      "pygments_lexer": "ipython3",
      "version": "3.9.21"
    },
    "papermill": {
      "default_parameters": {},
      "duration": 27.524611,
      "end_time": "2025-04-01T17:39:42.223757",
      "environment_variables": {},
      "exception": null,
      "input_path": "__notebook__.ipynb",
      "output_path": "__notebook__.ipynb",
      "parameters": {},
      "start_time": "2025-04-01T17:39:14.699146",
      "version": "2.6.0"
    }
  },
  "nbformat": 4,
  "nbformat_minor": 0
}
